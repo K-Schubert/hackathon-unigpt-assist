{
 "cells": [
  {
   "cell_type": "code",
   "execution_count": 1,
   "metadata": {},
   "outputs": [],
   "source": [
    "def create_text(c):\n",
    "    a = c['activities']\n",
    "    titre = f\"Le nom du cours est {c['title']}. \"\n",
    "    code = f\"Le code du cours est {c['code']}. \"\n",
    "    fac = f\"Le cours est dispensé par la {c['facultyLabel']}. \"\n",
    "    niveau = f\"Ce cours est de niveau {c['studyLevel']}. \"\n",
    "    credit = f\"Ce cours vaut {c['credits']} crédits. \" if c['credits'] != None else ''\n",
    "    cours = [{} for _ in range(len(a))]\n",
    "    objectif = f\"L\\'objectif de ce cours est: {a[0]['objective']}. \" if a[0]['objective'] != None else ''\n",
    "    description = f\"La description de ce cours est la suivante: {a[0]['description']} \" if a[0]['description'] != None else 'Ce cours n\\'a pas de description'\n",
    "    evaluation = f\"Le type d\\'évaluation de ce cours est {a[0]['evaluationComment'] if a[0]['evaluationComment'] != None else a[0]['evaluation']} \" if a[0]['evaluation'] != None else ''\n",
    "    duration = f\"La durée de ce cours est de {a[0]['duration']}. Pendant la période {a[0]['periodicity']}. \"\n",
    "    activites = f\"Ce cours est composé de \"\n",
    "    langue = f\"La langue utilisé pour ce cours est {a[0]['language']}. \"\n",
    "    recommande = f\"Les cours recommandé pour ce cours sont: {a[0]['recommended']}. \" if a[0]['recommended'] != None else ''\n",
    "    bibliographie = f\"La bibliographie pour ce cours est {a[0]['bibliography']} \"\n",
    "    metaProf = ''\n",
    "    cours_time = ''\n",
    "    seminaire_time = ''\n",
    "    tp_time = ''\n",
    "    studyplan = ''\n",
    "\n",
    "    for plan in c['listStudyPlan']:\n",
    "        studyplan += f\"Ce cours est compris dans le plan d\\'étude {plan['studyPlanLabel']} pour {plan['planCredits']} crédits. \"\n",
    "\n",
    "    professeur = [[] for _ in range(len(a))]\n",
    "    for i, b in enumerate(a):\n",
    "        prof = ''\n",
    "        \n",
    "        for j, p in enumerate(b['activityTeachers']):\n",
    "            if len(p['contactInfos']) > 0:\n",
    "                if i == 0:\n",
    "                    metaProf += f\"{p['contactInfos'][0]['title']} {p['displayFirstName']} {p['displayLastName']}\"\n",
    "                    if j < len(b['activityTeachers']) - 1: metaProf += ', '\n",
    "                prof += f\"{p['contactInfos'][0]['title']} {p['displayFirstName']} {p['displayLastName']}\"\n",
    "                prof += \" et par \" if len(b['activityTeachers']) - 1 > j else ', ' if len(a) - 1 > i else ''\n",
    "                if len(b['activityTeachers']) - 1 == j: professeur[i] = prof\n",
    "\n",
    "        # print(b['type'])\n",
    "        if b['type'] == 'Cours' and len(b['courses']) > 0: cours_time = f\"{b['courses'][0]['day']}: {b['courses'][0]['startHour']} - {b['courses'][0]['endHour']}\"\n",
    "        if b['type'] == 'Exercices' and len(b['courses']) > 0: seminaire_time = f\"{b['courses'][0]['day']}: {b['courses'][0]['startHour']} - {b['courses'][0]['endHour']}\"\n",
    "        if b['type'] == 'Travaux pratiques' and len(b['courses']) > 0: tp_time = f\"{b['courses'][0]['day']}: {b['courses'][0]['startHour']} - {b['courses'][0]['endHour']}\"\n",
    "        activites += f\"{b['duration'] if b['duration'] != None else ''} de {b['type'] if b['type'] != None else ''}\" + f\"le {b['courses'][0]['day']} de {b['courses'][0]['startHour']} à {b['courses'][0]['endHour']} dans la salle {b['courses'][0]['room']} à {b['courses'][0]['building']}\" if len(b['courses']) > 0 else ''\n",
    "        activites += f\" dispensée par {professeur[i]}\"\n",
    "        activites += ' et de ' if len(a) - 1 > i else '. '\n",
    "    base_url = \"https://pgc.unige.ch/main/api/teachings/\"\n",
    "    return {\n",
    "            \"content\": titre + code + fac + niveau + credit + objectif + description + evaluation + duration + activites + langue + recommande + bibliographie + studyplan,\n",
    "            \"metadata\": {\n",
    "                \"titre\": c['title'],\n",
    "                \"code\": c['code'],\n",
    "                \"url\": base_url + c['code'],\n",
    "                \"professeurs\": metaProf,\n",
    "                \"langue\": a[0]['language'],\n",
    "                \"periode\": a[0]['periodicity'],\n",
    "                \"fac\": c['facultyLabel'],\n",
    "                \"horaire_seminaire\": seminaire_time,\n",
    "                \"horaire_cours\": cours_time,\n",
    "                \"horaire_tp\": tp_time\n",
    "                \n",
    "            }\n",
    "            }\n"
   ]
  },
  {
   "cell_type": "code",
   "execution_count": 2,
   "metadata": {},
   "outputs": [],
   "source": [
    "import requests\n",
    "\n",
    "url = \"https://pgc.unige.ch/main/api/teachings/\"\n",
    "headers = {\n",
    "    \"Accept\": \"application/json\",\n",
    "    \"User-Agent\": \"Your User Agent\"\n",
    "}\n",
    "\n",
    "medecine_id = [['213P006', ' 213P007', '213P009'], ['223A002', '223A003', '223A004', '223A006', '223A007', 'D200011', '223A008', '223A015', '223TP001', '223C100', '223D100', '223M001', '223IP001', '223O002', '223S002'], ['223A010', '223A011', '223A012', '223C300', '223D300', '223A016', '223P100', '223O001', '223O002', '223O003', '223O004']]\n",
    "ssn_id = ['D400001', 'D400004', 'D400007', 'D400008', 'D400005', 'D400012', 'D400013', 'D400014', 'D400017', 'D400009', 'D400006', '75303', '75304', '75307', '75308', 'D400002', 'T410289', '14X032', 'D400029', 'D400009', '14X028', 'S403011', '13X011', '14X026', '14X011', '10S003', 'D400015', 'D400010', '13X005', '14X015', 'T406090', '14E182', 'T406034', 'D400016', '14X032', 'D400024', '14X021', 'D400018', 'T410289', '14X016', 'D400019', 'D400020', 'D400022', 'S403011', '14X040', 'S402002', 'T410289', 'D400018', '14X021', '14X040', 'T412020', 'D400026', 'S401121', 'S401003', 'S401109', 'T421211', 'T410012']       \n",
    "\n",
    "\n",
    "def scrap_courses(ids):\n",
    "    courses_content = []\n",
    "    parsed_data = []\n",
    "    for id in ids:\n",
    "        response = requests.get(f'{url}{id}', headers=headers)\n",
    "        if response.status_code == 200:\n",
    "            data = response.json()\n",
    "            courses_content.append(create_text(data))\n",
    "        else:\n",
    "            print(f\"Failed to retrieve data. Status code: {response.status_code}\")\n",
    "\n",
    "    return courses_content\n",
    "    \n"
   ]
  },
  {
   "cell_type": "markdown",
   "metadata": {},
   "source": [
    "TODO: scrap ou noté les codes des cours qu'on veut scrapé"
   ]
  },
  {
   "cell_type": "code",
   "execution_count": 3,
   "metadata": {},
   "outputs": [],
   "source": [
    "def find_courses(children):\n",
    "    all_courses = []\n",
    "    for child in children:\n",
    "        if len(child['children']) > 0: find_courses(child['children'])\n",
    "        else: all_courses.append([course['teachingId'] for course in child['listTeaching']])\n",
    "    return all_courses"
   ]
  },
  {
   "cell_type": "code",
   "execution_count": 4,
   "metadata": {},
   "outputs": [],
   "source": [
    "def get_all_courses():\n",
    "    response = requests.get('https://pgc.unige.ch/main/api/faculties?size=10000&academicalYear=2023', headers=headers)\n",
    "    facIds = []\n",
    "    planIds = []\n",
    "    coursesIds = []\n",
    "    if response.status_code == 200:\n",
    "        for faculte in response.json()['_data']:\n",
    "            facIds.append(faculte['resId'])\n",
    "            response2 = requests.get(f\"https://pgc.unige.ch/main/api/study-plans?academicalYear=2023&facultyId={faculte['resId']}\")\n",
    "            if response2.status_code == 200:\n",
    "                for study_plan in response2.json()['_data'][:1]:\n",
    "                    planIds.append(study_plan['resId'])\n",
    "                    response3 = requests.get(f\"https://pgc.unige.ch/main/api/study-plan-nodes/{study_plan['resId']}\")\n",
    "                    if response3.status_code == 200:\n",
    "                        # print(response3.json()['children'])\n",
    "                        courses = find_courses(response3.json()['children'])\n",
    "                        coursesIds.append(courses)\n",
    "    else:\n",
    "        print(f\"Failed to retrieve data. Status code: {response.status_code}\")\n",
    "    return coursesIds"
   ]
  },
  {
   "cell_type": "code",
   "execution_count": 5,
   "metadata": {},
   "outputs": [
    {
     "name": "stdout",
     "output_type": "stream",
     "text": [
      "[[['2023-11X001', '2023-11X002', '2023-11X006', '2023-11M010', '2023-11M020', '2023-11P090', '2023-11X003', '2023-11X020', '2023-11X005', '2023-11X004', '2023-11P091', '2023-11M005', '2023-11M050', '2023-11X008'], ['2023-12M061', '2023-12M040', '2023-12X009', '2023-12X001', '2023-12X014', '2023-12X005', '2023-12X050', '2023-12X008', '2023-12X003', '2023-12X006', '2023-12X004', '2023-D200025', '2023-12X015'], ['2023-13X001', '2023-13X007', '2023-13X003', '2023-13X009', '2023-13X005', '2023-13X004', '2023-13X012', '2023-13X008', '2023-13X011', '2023-1MEMINFO']], [['2023-213P006', '2023-213P007', '2023-213P009'], ['2023-223A002', '2023-223A003', '2023-223A004', '2023-223A006', '2023-223A007', '2023-223A008', '2023-223A015', '2023-223TP001', '2023-223C100', '2023-223D100', '2023-223M001', '2023-223IP001', '2023-223O001', '2023-223O002', '2023-223S001', '2023-223S002'], ['2023-223A010', '2023-223A011', '2023-223A012', '2023-223A013', '2023-223C300', '2023-223D300', '2023-223A016', '2023-223P100', '2023-223O001', '2023-223O002', '2023-223S003', '2023-223S004']], [], [[]], [[]], [['2023-5000B', '2023-5069', '2023-5010', '2023-5051', '2023-5009', '2023-5004', '2023-5011']], [], [], [['2023-BT0001', '2023-BT124', '2023-BT324', '2023-BT424', '2023-BT524', '2023-BT624', '2023-BT127', '2023-BT327', '2023-BT427', '2023-BT527', '2023-BT627', '2023-BT126', '2023-BT326', '2023-BT426', '2023-BT526', '2023-BT626'], ['2023-BT0128', '2023-BT0228', '2023-BT0428', '2023-BT0528', '2023-BT0628', '2023-BT0728', '2023-BT0800', '2023-BT0174', '2023-BT0274', '2023-BT0474', '2023-BT0574', '2023-BT0674', '2023-BT0774', '2023-BT0801'], ['2023-BT0910', '2023-BT0911'], ['2023-BT0111', '2023-BT0112', '2023-BT0113', '2023-BT0114', '2023-BT0115', '2023-BT0116', '2023-BT0117', '2023-BT0118', '2023-BT0311', '2023-BT0312', '2023-BT0313', '2023-BT0314', '2023-BT0411', '2023-BT0412', '2023-BT0413', '2023-BT0414', '2023-BT0511', '2023-BT0512', '2023-BT0513', '2023-BT0514', '2023-BT0515', '2023-BT0516', '2023-BT0517', '2023-BT0518', '2023-BT0519', '2023-BT0520', '2023-BT0611', '2023-BT0612', '2023-BT0613', '2023-BT0614', '2023-BT0615', '2023-BT0616', '2023-BT0803', '2023-BT0804'], ['2023-BT0123', '2023-BT0223', '2023-BT0423', '2023-BT0523', '2023-BT0623', '2023-BT0723', '2023-BT0805', '2023-BT0181', '2023-BT0187', '2023-BT0281', '2023-BT0283', '2023-BT0285', '2023-BT0287', '2023-BT0289', '2023-BT0481', '2023-BT0482', '2023-BT0581', '2023-BT0583', '2023-BT0585', '2023-BT0587', '2023-BT0589', '2023-BT0681', '2023-BT0683', '2023-BT0781', '2023-BT0806', '2023-BT0130', '2023-BT0330', '2023-BT0430', '2023-BT0530', '2023-BT0630', '2023-BT0055', '2023-BT0807', '2023-BT0870', '2023-BT0912', '2023-BT0913'], [], ['2023-BT0003', '2023-BT171', '2023-BT271', '2023-BT471', '2023-BT571', '2023-BT671', '2023-BT771', '2023-BT0810', '2023-BT0870', '2023-BT0871'], ['2023-BT0002', '2023-BT0004', '2023-BT0005', '2023-BT0130', '2023-BT0330', '2023-BT0430', '2023-BT0530', '2023-BT0630', '2023-BT0055'], ['2023-BT0101', '2023-BT0102', '2023-BT0103', '2023-BT0104', '2023-BT0105', '2023-BT0106', '2023-BT0107', '2023-BT0108', '2023-BT0301', '2023-BT0302', '2023-BT0303', '2023-BT0304', '2023-BT0401', '2023-BT0402', '2023-BT0403', '2023-BT0404', '2023-BT0501', '2023-BT0502', '2023-BT0503', '2023-BT0504', '2023-BT0505', '2023-BT0506', '2023-BT0507', '2023-BT0508', '2023-BT0509', '2023-BT0510', '2023-BT0601', '2023-BT0602', '2023-BT0603', '2023-BT0604', '2023-BT0605', '2023-BT0606', '2023-BT0808', '2023-BT0809'], ['2023-BT0800', '2023-BT0820', '2023-BT0801', '2023-BT0821', '2023-BT0803', '2023-BT0804', '2023-BT0823', '2023-BT0824', '2023-BT0805', '2023-BT0825', '2023-BT0806', '2023-BT0826', '2023-BT0807', '2023-BT0808', '2023-BT0809', '2023-BT0828', '2023-BT0829', '2023-BT0810', '2023-BT0830', '2023-BT0871', '2023-BT0872']], [['2023-30EL024', '2023-30EL025', '2023-30EL026'], ['2023-30EL027', '2023-30EL006', '2023-30EL007', '2023-30EL028', '2023-32M1071'], ['2023-30EL023', '2023-30EL032', '2023-30EL029', '2023-30EL030', '2023-30EL033']], [[]], [], [], [['2023-11X006', '2023-11X003', '2023-D200022', '2023-D200006', '2023-D200008', '2023-11X004', '2023-D200009', '2023-D200010', '2023-D200011', '2023-D200012', '2023-D200002', '2023-D200013', '2023-D200014', '2023-D200003', '2023-D200015', '2023-D200016', '2023-D200017', '2023-D200018', '2023-D200019', '2023-D200020', '2023-D200021', '2023-D200025', '2023-S104010'], ['2023-S103005', '2023-S110016', '2023-11M000', '2023-11M002', '2023-11X008', '2023-S110001'], ['2023-12X014', '2023-D200001', '2023-D_6261URBA', '2023-13X003', '2023-D200023', '2023-D_6252DATA', '2023-D_6252BUS', '2023-D200004', '2023-11M010', '2023-11M020', '2023-S210016', '2023-5869', '2023-5870'], []]]\n"
     ]
    }
   ],
   "source": [
    "coursesIds = get_all_courses()\n",
    "print(coursesIds)"
   ]
  },
  {
   "cell_type": "code",
   "execution_count": 6,
   "metadata": {},
   "outputs": [
    {
     "name": "stdout",
     "output_type": "stream",
     "text": [
      "['2023-11X001', '2023-11X002', '2023-11X006', '2023-11M010', '2023-11M020', '2023-11P090', '2023-11X003', '2023-11X020', '2023-11X005', '2023-11X004', '2023-11P091', '2023-11M005', '2023-11M050', '2023-11X008', '2023-12M061', '2023-12M040', '2023-12X009', '2023-12X001', '2023-12X014', '2023-12X005', '2023-12X050', '2023-12X008', '2023-12X003', '2023-12X006', '2023-12X004', '2023-D200025', '2023-12X015', '2023-13X001', '2023-13X007', '2023-13X003', '2023-13X009', '2023-13X005', '2023-13X004', '2023-13X012', '2023-13X008', '2023-13X011', '2023-1MEMINFO', '2023-213P006', '2023-213P007', '2023-213P009', '2023-223A002', '2023-223A003', '2023-223A004', '2023-223A006', '2023-223A007', '2023-223A008', '2023-223A015', '2023-223TP001', '2023-223C100', '2023-223D100', '2023-223M001', '2023-223IP001', '2023-223O001', '2023-223O002', '2023-223S001', '2023-223S002', '2023-223A010', '2023-223A011', '2023-223A012', '2023-223A013', '2023-223C300', '2023-223D300', '2023-223A016', '2023-223P100', '2023-223O001', '2023-223O002', '2023-223S003', '2023-223S004', '2023-5000B', '2023-5069', '2023-5010', '2023-5051', '2023-5009', '2023-5004', '2023-5011', '2023-BT0001', '2023-BT124', '2023-BT324', '2023-BT424', '2023-BT524', '2023-BT624', '2023-BT127', '2023-BT327', '2023-BT427', '2023-BT527', '2023-BT627', '2023-BT126', '2023-BT326', '2023-BT426', '2023-BT526', '2023-BT626', '2023-BT0128', '2023-BT0228', '2023-BT0428', '2023-BT0528', '2023-BT0628', '2023-BT0728', '2023-BT0800', '2023-BT0174', '2023-BT0274', '2023-BT0474', '2023-BT0574', '2023-BT0674', '2023-BT0774', '2023-BT0801', '2023-BT0910', '2023-BT0911', '2023-BT0111', '2023-BT0112', '2023-BT0113', '2023-BT0114', '2023-BT0115', '2023-BT0116', '2023-BT0117', '2023-BT0118', '2023-BT0311', '2023-BT0312', '2023-BT0313', '2023-BT0314', '2023-BT0411', '2023-BT0412', '2023-BT0413', '2023-BT0414', '2023-BT0511', '2023-BT0512', '2023-BT0513', '2023-BT0514', '2023-BT0515', '2023-BT0516', '2023-BT0517', '2023-BT0518', '2023-BT0519', '2023-BT0520', '2023-BT0611', '2023-BT0612', '2023-BT0613', '2023-BT0614', '2023-BT0615', '2023-BT0616', '2023-BT0803', '2023-BT0804', '2023-BT0123', '2023-BT0223', '2023-BT0423', '2023-BT0523', '2023-BT0623', '2023-BT0723', '2023-BT0805', '2023-BT0181', '2023-BT0187', '2023-BT0281', '2023-BT0283', '2023-BT0285', '2023-BT0287', '2023-BT0289', '2023-BT0481', '2023-BT0482', '2023-BT0581', '2023-BT0583', '2023-BT0585', '2023-BT0587', '2023-BT0589', '2023-BT0681', '2023-BT0683', '2023-BT0781', '2023-BT0806', '2023-BT0130', '2023-BT0330', '2023-BT0430', '2023-BT0530', '2023-BT0630', '2023-BT0055', '2023-BT0807', '2023-BT0870', '2023-BT0912', '2023-BT0913', '2023-BT0003', '2023-BT171', '2023-BT271', '2023-BT471', '2023-BT571', '2023-BT671', '2023-BT771', '2023-BT0810', '2023-BT0870', '2023-BT0871', '2023-BT0002', '2023-BT0004', '2023-BT0005', '2023-BT0130', '2023-BT0330', '2023-BT0430', '2023-BT0530', '2023-BT0630', '2023-BT0055', '2023-BT0101', '2023-BT0102', '2023-BT0103', '2023-BT0104', '2023-BT0105', '2023-BT0106', '2023-BT0107', '2023-BT0108', '2023-BT0301', '2023-BT0302', '2023-BT0303', '2023-BT0304', '2023-BT0401', '2023-BT0402', '2023-BT0403', '2023-BT0404', '2023-BT0501', '2023-BT0502', '2023-BT0503', '2023-BT0504', '2023-BT0505', '2023-BT0506', '2023-BT0507', '2023-BT0508', '2023-BT0509', '2023-BT0510', '2023-BT0601', '2023-BT0602', '2023-BT0603', '2023-BT0604', '2023-BT0605', '2023-BT0606', '2023-BT0808', '2023-BT0809', '2023-BT0800', '2023-BT0820', '2023-BT0801', '2023-BT0821', '2023-BT0803', '2023-BT0804', '2023-BT0823', '2023-BT0824', '2023-BT0805', '2023-BT0825', '2023-BT0806', '2023-BT0826', '2023-BT0807', '2023-BT0808', '2023-BT0809', '2023-BT0828', '2023-BT0829', '2023-BT0810', '2023-BT0830', '2023-BT0871', '2023-BT0872', '2023-30EL024', '2023-30EL025', '2023-30EL026', '2023-30EL027', '2023-30EL006', '2023-30EL007', '2023-30EL028', '2023-32M1071', '2023-30EL023', '2023-30EL032', '2023-30EL029', '2023-30EL030', '2023-30EL033', '2023-11X006', '2023-11X003', '2023-D200022', '2023-D200006', '2023-D200008', '2023-11X004', '2023-D200009', '2023-D200010', '2023-D200011', '2023-D200012', '2023-D200002', '2023-D200013', '2023-D200014', '2023-D200003', '2023-D200015', '2023-D200016', '2023-D200017', '2023-D200018', '2023-D200019', '2023-D200020', '2023-D200021', '2023-D200025', '2023-S104010', '2023-S103005', '2023-S110016', '2023-11M000', '2023-11M002', '2023-11X008', '2023-S110001', '2023-12X014', '2023-D200001', '2023-D_6261URBA', '2023-13X003', '2023-D200023', '2023-D_6252DATA', '2023-D_6252BUS', '2023-D200004', '2023-11M010', '2023-11M020', '2023-S210016', '2023-5869', '2023-5870']\n"
     ]
    }
   ],
   "source": [
    "flattened_list = [item for sublist1 in coursesIds for sublist2 in sublist1 for item in sublist2]\n",
    "\n",
    "print(flattened_list)"
   ]
  },
  {
   "cell_type": "code",
   "execution_count": 7,
   "metadata": {},
   "outputs": [],
   "source": [
    "scraped_courses = scrap_courses(flattened_list)"
   ]
  },
  {
   "cell_type": "code",
   "execution_count": 13,
   "metadata": {},
   "outputs": [
    {
     "data": {
      "text/plain": [
       "{'content': \"Le nom du cours est Introduction à la programmation des algorithmes. Le code du cours est 11X001. Le cours est dispensé par la Faculté des sciences. Ce cours est de niveau Bachelor / Master. Ce cours vaut 6.0 crédits. L'objectif de ce cours est: Ce cours a pour but d'introduire les concepts fondamentaux de la programmation des ordinateurs et de l'algorithmique. Des algorithmes représentatifs de problèmes classiques sont étudiés.. La description de ce cours est la suivante: Concepts d'algorithmes, notions fondamentales, abstraction, séquences, itérations, récursivité.\\r\\n\\r\\n'\\tProgrammes et langages de programmation, compilateurs et interpréteurs.\\r\\n\\r\\n'\\tFondamentaux de la programmation :\\r\\n\\r\\n+ modèle de von Neumann, mémoire,\\r\\n+ types primitifs,\\r\\n+ tableaux et chaînes de caractères,\\r\\n+ structures et énumérations,\\r\\n+ instructions d'affectation et de contrôle,\\r\\n+ fonctions, récursivité,\\r\\n+ fonctions anonymes et d'ordres supérieurs.\\r\\n\\r\\n'\\tPratique de la programmation\\r\\n\\r\\n+ entrées /sorties, fichiers,\\r\\n+ utilisation de librairies pré-existantes,\\r\\n+ gestion des erreurs, débogage.\\r\\n\\r\\n'\\tAnalyse, notion de complexité des algorithmes.\\r\\n\\r\\n'\\tAlgorithmes et leur analyse, tris, programmation dynamique et recherche de motifs.\\r\\n Le type d'évaluation de ce cours est Examen écrit La durée de ce cours est de 4h. Pendant la période Automne. Ce cours est composé de  dispensée par M. François Fleuret et par Mme Frédérique Lisacek,  et de  dispensée par M. François Fleuret et par Mme Frédérique Lisacek. La langue utilisé pour ce cours est français. La bibliographie pour ce cours est Support de cours et ouvrages de référence. Ce cours est compris dans le plan d'étude Baccalauréat universitaire en informatique pour 6 crédits. Ce cours est compris dans le plan d'étude Baccalauréat universitaire en sciences computationnelles BIO pour 6 crédits. Ce cours est compris dans le plan d'étude Baccalauréat universitaire en mathématiques, informatique et sciences numériques pour 7 crédits. Ce cours est compris dans le plan d'étude Master of Science in Biology 120 crédits pour 6 crédits. Ce cours est compris dans le plan d'étude Cours donnés pour la Section de mathématiques par d'autres sections pour 6 crédits. \",\n",
       " 'metadata': {'titre': 'Introduction à la programmation des algorithmes',\n",
       "  'code': '11X001',\n",
       "  'url': 'https://pgc.unige.ch/main/api/teachings/11X001',\n",
       "  'professeurs': 'M. François Fleuret, Mme Frédérique Lisacek',\n",
       "  'langue': 'français',\n",
       "  'periode': 'Automne',\n",
       "  'fac': 'Faculté des sciences',\n",
       "  'horaire_seminaire': '',\n",
       "  'horaire_cours': '',\n",
       "  'horaire_tp': ''}}"
      ]
     },
     "execution_count": 13,
     "metadata": {},
     "output_type": "execute_result"
    }
   ],
   "source": [
    "scraped_courses[0]"
   ]
  },
  {
   "cell_type": "code",
   "execution_count": 22,
   "metadata": {},
   "outputs": [],
   "source": [
    "import json\n",
    "\n",
    "docs_to_save = []\n",
    "for doc in scraped_courses:\n",
    "    docs_to_save.append({\"content\": doc['content'], \"metadata\": doc['metadata']})\n",
    "    with open(\"../pre-processed/cours.jsonl\", 'w') as f:\n",
    "        for item in docs_to_save:\n",
    "            f.write(json.dumps(item) + \"\\n\")"
   ]
  }
 ],
 "metadata": {
  "kernelspec": {
   "display_name": "Python 3",
   "language": "python",
   "name": "python3"
  },
  "language_info": {
   "codemirror_mode": {
    "name": "ipython",
    "version": 3
   },
   "file_extension": ".py",
   "mimetype": "text/x-python",
   "name": "python",
   "nbconvert_exporter": "python",
   "pygments_lexer": "ipython3",
   "version": "3.11.2"
  }
 },
 "nbformat": 4,
 "nbformat_minor": 2
}
