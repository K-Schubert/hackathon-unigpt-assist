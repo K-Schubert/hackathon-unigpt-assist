{
 "cells": [
  {
   "cell_type": "markdown",
   "id": "32188515-a09b-473d-a12c-9f39eb4be33b",
   "metadata": {},
   "source": [
    "# "
   ]
  },
  {
   "cell_type": "code",
   "execution_count": 1,
   "id": "53aa1608-9f91-4f91-a8bd-b942854b92c6",
   "metadata": {},
   "outputs": [
    {
     "name": "stderr",
     "output_type": "stream",
     "text": [
      "/Users/kieranschubert/Desktop/unigpt-assist/venv_unigpt/lib/python3.11/site-packages/tqdm/auto.py:21: TqdmWarning: IProgress not found. Please update jupyter and ipywidgets. See https://ipywidgets.readthedocs.io/en/stable/user_install.html\n",
      "  from .autonotebook import tqdm as notebook_tqdm\n"
     ]
    }
   ],
   "source": [
    "from langchain.schema import SystemMessage\n",
    "from langchain.output_parsers import PydanticOutputParser\n",
    "from langchain.prompts import PromptTemplate\n",
    "from langchain.pydantic_v1 import BaseModel, Field, validator\n",
    "from langchain.chat_models import ChatOpenAI\n",
    "import glob\n",
    "import pandas as pd\n",
    "from datasets import Dataset, load_from_disk\n",
    "\n",
    "from langchain.embeddings import OpenAIEmbeddings\n",
    "from langchain.schema import Document\n",
    "from langchain.chains import RetrievalQA\n",
    "from langchain.chains.conversation.memory import ConversationBufferWindowMemory\n",
    "\n",
    "import os\n",
    "from dotenv import load_dotenv\n",
    "import json\n",
    "import tqdm\n",
    "\n",
    "import pinecone\n",
    "from langchain.vectorstores import Pinecone\n",
    "\n",
    "import uuid"
   ]
  },
  {
   "cell_type": "markdown",
   "id": "8f6c06f3-3e97-4bc4-a4ab-c2d4483767ea",
   "metadata": {},
   "source": [
    "# Load env variables"
   ]
  },
  {
   "cell_type": "code",
   "execution_count": 2,
   "id": "714a806f-4a92-4bbe-9b8c-7dbd8b62acb1",
   "metadata": {},
   "outputs": [],
   "source": [
    "load_dotenv()\n",
    "os.environ[\"OPENAI_API_KEY\"] = os.getenv(\"OPENAI_API_KEY\")\n",
    "OPENAI_API_KEY = os.getenv('OPENAI_API_KEY')\n",
    "PINECONE_API_KEY = os.getenv('PINECONE_API_KEY')\n",
    "PINECONE_ENVIRONMENT = os.getenv('PINECONE_ENVIRONMENT')\n",
    "PINECONE_INDEX= os.getenv('PINECONE_INDEX')"
   ]
  },
  {
   "cell_type": "markdown",
   "id": "b783f2f9-419a-4916-89a1-98bc840ce05d",
   "metadata": {},
   "source": [
    "# Define output format"
   ]
  },
  {
   "cell_type": "code",
   "execution_count": 12,
   "id": "64402716-c2ae-449c-a5a1-cb3cee80b98e",
   "metadata": {},
   "outputs": [],
   "source": [
    "class JSON_output(BaseModel):\n",
    "    label: str = Field(description=\"label\")\n",
    "    comment: str = Field(description=\"comment\")\n",
    "\n",
    "parser = PydanticOutputParser(pydantic_object=JSON_output)"
   ]
  },
  {
   "cell_type": "markdown",
   "id": "4ff0cccd-93e4-4f21-9c2b-20263608c768",
   "metadata": {},
   "source": [
    "# Init llm"
   ]
  },
  {
   "cell_type": "code",
   "execution_count": 13,
   "id": "3ad9f75d-a1c0-4146-9ddb-b517bc2aa6ad",
   "metadata": {},
   "outputs": [],
   "source": [
    "import sys\n",
    "sys.path.append(\"../scripts\")\n",
    "\n",
    "from rag import init_pinecone, init_vectorstore, init_retriever, init_retrievalqa_chain\n",
    "from langchain.chains.conversation.memory import ConversationBufferWindowMemory\n",
    "from langchain.callbacks.streaming_stdout import StreamingStdOutCallbackHandler"
   ]
  },
  {
   "cell_type": "code",
   "execution_count": 14,
   "id": "3047854e-346a-45b7-bcd0-9d9aeb05652c",
   "metadata": {},
   "outputs": [],
   "source": [
    "llm  = ChatOpenAI(\n",
    "    openai_api_key=OPENAI_API_KEY,\n",
    "    model_name='gpt-4-1106-preview',\n",
    "    temperature=0,\n",
    "    max_tokens=512\n",
    ")"
   ]
  },
  {
   "cell_type": "code",
   "execution_count": 15,
   "id": "4e4c61d3-ac6a-4fd7-b784-08eaa1a7af6b",
   "metadata": {},
   "outputs": [],
   "source": [
    "# ReAct prompt\n",
    "template = \"\"\"You will be presented with a user query in french. Your task is to classify the user query into one final category.\n",
    "    \n",
    "    Approach this task step by step, take your time and do not skip any steps.\n",
    "\n",
    "    1. Read the user query.\n",
    "    2. Determine whether the query is related to university regulation OR university courses.\n",
    "       - If the query is related to general university regulations or faculty regulations, assign a label of \"reglement\".\n",
    "       - If the query is related to course details (eg. question about a specific course, a timetable, a professor, the contents of a course, etc.), assign a label of \"cours\".\n",
    "    4. Output a response as JSON with keys as follows:\n",
    "        - \"label\": allowable values are [\"reglement\", \"cours\"]\n",
    "        - \"comment\": any suitable comment based on the classification you performed, if required.\n",
    "\n",
    "    Input query: {query}\n",
    "\"\"\"\n",
    "\n",
    "prompt_template = PromptTemplate(input_variables=[\"query\"], template=template)"
   ]
  },
  {
   "cell_type": "code",
   "execution_count": 16,
   "id": "5f4e623d-8e7e-4788-bced-7e5429e6ce34",
   "metadata": {},
   "outputs": [
    {
     "data": {
      "text/html": [
       "<div>\n",
       "<style scoped>\n",
       "    .dataframe tbody tr th:only-of-type {\n",
       "        vertical-align: middle;\n",
       "    }\n",
       "\n",
       "    .dataframe tbody tr th {\n",
       "        vertical-align: top;\n",
       "    }\n",
       "\n",
       "    .dataframe thead th {\n",
       "        text-align: right;\n",
       "    }\n",
       "</style>\n",
       "<table border=\"1\" class=\"dataframe\">\n",
       "  <thead>\n",
       "    <tr style=\"text-align: right;\">\n",
       "      <th></th>\n",
       "      <th>question</th>\n",
       "      <th>reponse</th>\n",
       "      <th>src</th>\n",
       "      <th>rag_answer</th>\n",
       "    </tr>\n",
       "  </thead>\n",
       "  <tbody>\n",
       "    <tr>\n",
       "      <th>0</th>\n",
       "      <td>Quelles sont les responsabilités du rectorat d...</td>\n",
       "      <td>Le rectorat veille à la réalisation des missio...</td>\n",
       "      <td>Statut-Version-1juillet2021.pdf</td>\n",
       "      <td>Le rectorat de l'Université de Genève est resp...</td>\n",
       "    </tr>\n",
       "    <tr>\n",
       "      <th>1</th>\n",
       "      <td>Comment sont désignés les membres de l'assembl...</td>\n",
       "      <td>La composition de l'assemblée de l'université ...</td>\n",
       "      <td>Statut-Version-1juillet2021.pdf</td>\n",
       "      <td>Les membres de l'assemblée de l'université son...</td>\n",
       "    </tr>\n",
       "    <tr>\n",
       "      <th>2</th>\n",
       "      <td>Quelles sont les conditions pour être considér...</td>\n",
       "      <td>Une personne est considérée comme étudiant ou ...</td>\n",
       "      <td>Statut-Version-1juillet2021.pdf</td>\n",
       "      <td>Pour être considéré comme étudiant ou étudiant...</td>\n",
       "    </tr>\n",
       "    <tr>\n",
       "      <th>3</th>\n",
       "      <td>Quels sont les critères d'élimination d'un étu...</td>\n",
       "      <td>Un étudiant ou une étudiante est éliminé(e) d'...</td>\n",
       "      <td>Statut-Version-1juillet2021.pdf</td>\n",
       "      <td>Les critères d'élimination d'un étudiant ou d'...</td>\n",
       "    </tr>\n",
       "    <tr>\n",
       "      <th>4</th>\n",
       "      <td>Quelles sont les conditions pour l'exmatricula...</td>\n",
       "      <td>L'exmatriculation est demandée par l'étudiant ...</td>\n",
       "      <td>Statut-Version-1juillet2021.pdf</td>\n",
       "      <td>Les conditions pour l'exmatriculation d'un étu...</td>\n",
       "    </tr>\n",
       "  </tbody>\n",
       "</table>\n",
       "</div>"
      ],
      "text/plain": [
       "                                            question  \\\n",
       "0  Quelles sont les responsabilités du rectorat d...   \n",
       "1  Comment sont désignés les membres de l'assembl...   \n",
       "2  Quelles sont les conditions pour être considér...   \n",
       "3  Quels sont les critères d'élimination d'un étu...   \n",
       "4  Quelles sont les conditions pour l'exmatricula...   \n",
       "\n",
       "                                             reponse  \\\n",
       "0  Le rectorat veille à la réalisation des missio...   \n",
       "1  La composition de l'assemblée de l'université ...   \n",
       "2  Une personne est considérée comme étudiant ou ...   \n",
       "3  Un étudiant ou une étudiante est éliminé(e) d'...   \n",
       "4  L'exmatriculation est demandée par l'étudiant ...   \n",
       "\n",
       "                               src  \\\n",
       "0  Statut-Version-1juillet2021.pdf   \n",
       "1  Statut-Version-1juillet2021.pdf   \n",
       "2  Statut-Version-1juillet2021.pdf   \n",
       "3  Statut-Version-1juillet2021.pdf   \n",
       "4  Statut-Version-1juillet2021.pdf   \n",
       "\n",
       "                                          rag_answer  \n",
       "0  Le rectorat de l'Université de Genève est resp...  \n",
       "1  Les membres de l'assemblée de l'université son...  \n",
       "2  Pour être considéré comme étudiant ou étudiant...  \n",
       "3  Les critères d'élimination d'un étudiant ou d'...  \n",
       "4  Les conditions pour l'exmatriculation d'un étu...  "
      ]
     },
     "execution_count": 16,
     "metadata": {},
     "output_type": "execute_result"
    }
   ],
   "source": [
    "eval_set = pd.read_csv(\"../evaluation/evaluated/k_docs_5.csv\")\n",
    "eval_set.head()"
   ]
  },
  {
   "cell_type": "code",
   "execution_count": 19,
   "id": "29efb1f6-7dc9-4661-ab26-b430873d7264",
   "metadata": {},
   "outputs": [
    {
     "name": "stderr",
     "output_type": "stream",
     "text": [
      "100%|█████████████████████████████████████████████████████████████████████████████████████████████████████████████████| 2/2 [00:06<00:00,  3.05s/it]\n"
     ]
    }
   ],
   "source": [
    "labels = []\n",
    "for query in tqdm.tqdm([\"Quelles sont les responsabilités du rectorat de l'université ?\", \"Y a-t-il un cours du professeur François Fleuret sur le deep learning ?\"]):\n",
    "\n",
    "    prompt = prompt_template.format(query=query)\n",
    "    res = llm([SystemMessage(content=prompt)])\n",
    "\n",
    "    labels.append(parser.parse(res.content))"
   ]
  },
  {
   "cell_type": "code",
   "execution_count": 20,
   "id": "ec81e996-8243-49ad-b9a8-9bdfec3d46f6",
   "metadata": {},
   "outputs": [
    {
     "data": {
      "text/plain": [
       "[JSON_output(label='reglement', comment=\"The query asks about the responsibilities of the university's rectorate, which pertains to university governance and regulations.\"),\n",
       " JSON_output(label='cours', comment='The query is asking about a specific course on deep learning taught by Professor François Fleuret.')]"
      ]
     },
     "execution_count": 20,
     "metadata": {},
     "output_type": "execute_result"
    }
   ],
   "source": [
    "labels"
   ]
  },
  {
   "cell_type": "code",
   "execution_count": null,
   "id": "081cbc53-2d81-4df5-b60f-03752345fb75",
   "metadata": {},
   "outputs": [],
   "source": []
  },
  {
   "cell_type": "code",
   "execution_count": null,
   "id": "d84c2a16-c37a-46f3-942b-7c1e4327e21d",
   "metadata": {},
   "outputs": [],
   "source": []
  },
  {
   "cell_type": "code",
   "execution_count": null,
   "id": "c62e5376-e32c-4480-88e9-3f88eb499ee5",
   "metadata": {},
   "outputs": [],
   "source": []
  },
  {
   "cell_type": "code",
   "execution_count": null,
   "id": "a6f2631e-bdd7-4398-9a7f-4dc800f22be3",
   "metadata": {},
   "outputs": [],
   "source": []
  },
  {
   "cell_type": "code",
   "execution_count": null,
   "id": "551094c0-c0a7-4b7e-9a92-aaa896756d28",
   "metadata": {},
   "outputs": [],
   "source": []
  }
 ],
 "metadata": {
  "kernelspec": {
   "display_name": "venv_unigpt",
   "language": "python",
   "name": "venv_unigpt"
  },
  "language_info": {
   "codemirror_mode": {
    "name": "ipython",
    "version": 3
   },
   "file_extension": ".py",
   "mimetype": "text/x-python",
   "name": "python",
   "nbconvert_exporter": "python",
   "pygments_lexer": "ipython3",
   "version": "3.11.5"
  }
 },
 "nbformat": 4,
 "nbformat_minor": 5
}
