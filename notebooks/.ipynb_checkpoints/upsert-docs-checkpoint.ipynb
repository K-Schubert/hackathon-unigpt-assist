{
 "cells": [
  {
   "cell_type": "markdown",
   "id": "b09bdec6-a526-4c24-82eb-2f6005da37e5",
   "metadata": {},
   "source": [
    "# Import libraries"
   ]
  },
  {
   "cell_type": "code",
   "execution_count": 4,
   "id": "c62cc9b1-16b8-4381-b2c0-14f354a198c8",
   "metadata": {},
   "outputs": [],
   "source": [
    "import pandas as pd\n",
    "import os\n",
    "\n",
    "from langchain.embeddings.openai import OpenAIEmbeddings\n",
    "from langchain.vectorstores import Pinecone\n",
    "from langchain.schema import Document\n",
    "\n",
    "from datasets import load_dataset\n",
    "\n",
    "import pinecone\n",
    "\n",
    "from dotenv import load_dotenv"
   ]
  },
  {
   "cell_type": "code",
   "execution_count": 5,
   "id": "a531bb5c-fc81-4aa0-b15a-95e0f6618f7e",
   "metadata": {},
   "outputs": [],
   "source": [
    "def upsert_docs(docs_to_upsert, PINECONE_INDEX=None, namespace=None):\n",
    "\n",
    "    pinecone.init(\n",
    "    api_key=PINECONE_API_KEY,\n",
    "    environment=PINECONE_ENVIRONMENT,\n",
    "    )\n",
    "    \n",
    "    if PINECONE_INDEX not in pinecone.list_indexes():\n",
    "        pinecone.create_index(PINECONE_INDEX, dimension=1536, metric=\"cosine\", pods=1, pod_type=\"p1.x1\")\n",
    "        \n",
    "    print(pinecone.list_indexes())\n",
    "    print(pinecone.describe_index(PINECONE_INDEX))\n",
    "\n",
    "    index = pinecone.Index(PINECONE_INDEX)\n",
    "    print(index.describe_index_stats())\n",
    "\n",
    "    embedding_function = OpenAIEmbeddings(model=\"text-embedding-ada-002\",\n",
    "                                   disallowed_special=())\n",
    "    \n",
    "    vector_database = Pinecone.from_documents(\n",
    "        documents=docs_to_upsert,\n",
    "        embedding=embedding_function,\n",
    "        index_name=PINECONE_INDEX,\n",
    "        #namespace=namespace,\n",
    "    )\n",
    "\n",
    "    print(index.describe_index_stats())\n",
    "\n",
    "    return True\n",
    "\n",
    "def get_index_stats(PINECONE_INDEX):\n",
    "\n",
    "    pinecone.init(\n",
    "    api_key=PINECONE_API_KEY,\n",
    "    environment=PINECONE_ENVIRONMENT,\n",
    "    )\n",
    "\n",
    "    index = pinecone.Index(PINECONE_INDEX)\n",
    "    print(index.describe_index_stats())\n",
    "\n",
    "    return True\n",
    "\n",
    "def delete_namespace(PINECONE_INDEX, namespace):\n",
    "\n",
    "    pinecone.init(\n",
    "    api_key=PINECONE_API_KEY,\n",
    "    environment=PINECONE_ENVIRONMENT,\n",
    "    )\n",
    "\n",
    "    index = pinecone.Index(PINECONE_INDEX)\n",
    "    index.delete(delete_all=True, namespace=namespace)\n",
    "\n",
    "    return True"
   ]
  },
  {
   "cell_type": "markdown",
   "id": "81718b7b-f883-497f-8c76-070779e4f9f4",
   "metadata": {},
   "source": [
    "# Load env variables"
   ]
  },
  {
   "cell_type": "code",
   "execution_count": 6,
   "id": "233784ca-c53c-4d17-b93e-11d9d5483884",
   "metadata": {},
   "outputs": [],
   "source": [
    "# Load env variables\n",
    "load_dotenv()\n",
    "\n",
    "OPENAI_API_KEY = os.getenv(\"OPENAI_API_KEY\")\n",
    "PINECONE_API_KEY = os.getenv('PINECONE_API_KEY')\n",
    "PINECONE_ENVIRONMENT = os.getenv('PINECONE_ENVIRONMENT')\n",
    "PINECONE_INDEX = os.getenv('PINECONE_INDEX')"
   ]
  },
  {
   "cell_type": "markdown",
   "id": "1cee8685-aa29-4e6f-abe1-b5256acd5018",
   "metadata": {},
   "source": [
    "# Load docs"
   ]
  },
  {
   "cell_type": "code",
   "execution_count": null,
   "id": "21f63f86-c41a-42d9-9ed6-b08600063a3e",
   "metadata": {},
   "outputs": [],
   "source": [
    "df_docs = pd.read_json(path_or_buf=\"../pre-processed/RegleGen.json\", lines=True)\n",
    "\n",
    "docs_to_upsert = []\n",
    "for i, row in df_docs.iterrows():\n",
    "    docs_to_upsert.append(Document(page_content=row.content, metadata=row.metadata))"
   ]
  },
  {
   "cell_type": "code",
   "execution_count": 8,
   "id": "8adffa84-ca81-4a33-9e61-629d57e0a742",
   "metadata": {},
   "outputs": [],
   "source": [
    "df_docs = pd.read_json(path_or_buf=\"../pre-processed/unige.jsonl\", lines=True)\n",
    "\n",
    "docs_to_upsert = []\n",
    "for i, row in df_docs.iterrows():\n",
    "    docs_to_upsert.append(Document(page_content=row.content, metadata=row.metadata))"
   ]
  },
  {
   "cell_type": "markdown",
   "id": "7aa455b5-4cc4-4b25-9f8f-aec926e37962",
   "metadata": {},
   "source": [
    "# Upsert docs"
   ]
  },
  {
   "cell_type": "code",
   "execution_count": 19,
   "id": "cd9b3d71-4330-472f-92ad-d0bd5dbf28dc",
   "metadata": {},
   "outputs": [
    {
     "name": "stdout",
     "output_type": "stream",
     "text": [
      "['hackathon']\n",
      "IndexDescription(name='hackathon', metric='cosine', replicas=1, dimension=1536.0, shards=1, pods=1, pod_type='starter', status={'ready': True, 'state': 'Ready'}, metadata_config=None, source_collection='')\n",
      "{'dimension': 1536,\n",
      " 'index_fullness': 0.0,\n",
      " 'namespaces': {},\n",
      " 'total_vector_count': 0}\n",
      "{'dimension': 1536,\n",
      " 'index_fullness': 0.0,\n",
      " 'namespaces': {},\n",
      " 'total_vector_count': 0}\n"
     ]
    },
    {
     "data": {
      "text/plain": [
       "True"
      ]
     },
     "execution_count": 19,
     "metadata": {},
     "output_type": "execute_result"
    }
   ],
   "source": [
    "upsert_docs(docs_to_upsert, PINECONE_INDEX=PINECONE_INDEX)"
   ]
  },
  {
   "cell_type": "code",
   "execution_count": 21,
   "id": "9f4b829d-b679-4832-9904-f15362006668",
   "metadata": {},
   "outputs": [
    {
     "name": "stdout",
     "output_type": "stream",
     "text": [
      "{'dimension': 1536,\n",
      " 'index_fullness': 0.00241,\n",
      " 'namespaces': {'': {'vector_count': 241}},\n",
      " 'total_vector_count': 241}\n"
     ]
    },
    {
     "data": {
      "text/plain": [
       "True"
      ]
     },
     "execution_count": 21,
     "metadata": {},
     "output_type": "execute_result"
    }
   ],
   "source": [
    "get_index_stats(PINECONE_INDEX)"
   ]
  },
  {
   "cell_type": "code",
   "execution_count": 17,
   "id": "cd50b45d-60d6-45f5-a3f8-f45a15fe8887",
   "metadata": {},
   "outputs": [],
   "source": [
    "#pinecone.init(\n",
    "#    api_key=PINECONE_API_KEY,\n",
    "#    environment=PINECONE_ENVIRONMENT,\n",
    "#)\n",
    "\n",
    "#pinecone.delete_index(PINECONE_INDEX)"
   ]
  },
  {
   "cell_type": "code",
   "execution_count": null,
   "id": "dce424ac-0ce9-4a16-a5f9-22e9700ad2a0",
   "metadata": {},
   "outputs": [],
   "source": []
  }
 ],
 "metadata": {
  "kernelspec": {
   "display_name": "venv_unigpt",
   "language": "python",
   "name": "venv_unigpt"
  },
  "language_info": {
   "codemirror_mode": {
    "name": "ipython",
    "version": 3
   },
   "file_extension": ".py",
   "mimetype": "text/x-python",
   "name": "python",
   "nbconvert_exporter": "python",
   "pygments_lexer": "ipython3",
   "version": "3.11.5"
  }
 },
 "nbformat": 4,
 "nbformat_minor": 5
}
