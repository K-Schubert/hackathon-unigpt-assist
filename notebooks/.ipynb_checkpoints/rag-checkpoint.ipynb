{
 "cells": [
  {
   "cell_type": "markdown",
   "id": "ddededef-f646-4827-bf9a-e652ce3d24c4",
   "metadata": {},
   "source": [
    "# Load libraries"
   ]
  },
  {
   "cell_type": "code",
   "execution_count": 1,
   "id": "2a99d025-28d9-4190-ae93-e8a50d67b6b6",
   "metadata": {},
   "outputs": [
    {
     "name": "stderr",
     "output_type": "stream",
     "text": [
      "/Users/kieranschubert/Desktop/unigpt-assist/venv_unigpt/lib/python3.11/site-packages/pinecone/index.py:4: TqdmWarning: IProgress not found. Please update jupyter and ipywidgets. See https://ipywidgets.readthedocs.io/en/stable/user_install.html\n",
      "  from tqdm.autonotebook import tqdm\n"
     ]
    }
   ],
   "source": [
    "import pandas as pd\n",
    "\n",
    "from langchain.chat_models import ChatOpenAI\n",
    "from langchain.embeddings import OpenAIEmbeddings\n",
    "from langchain.schema import Document\n",
    "from langchain.chains import RetrievalQA\n",
    "from langchain.prompts import PromptTemplate\n",
    "\n",
    "import pinecone\n",
    "from langchain.vectorstores import Pinecone\n",
    "\n",
    "import os\n",
    "from dotenv import load_dotenv"
   ]
  },
  {
   "cell_type": "markdown",
   "id": "ce05a5a3-c566-4d11-8eaf-86e15f699ddf",
   "metadata": {},
   "source": [
    "# Load dotenv"
   ]
  },
  {
   "cell_type": "code",
   "execution_count": 2,
   "id": "971f5e20-416e-4f53-9a7d-4c66272d30ed",
   "metadata": {},
   "outputs": [],
   "source": [
    "load_dotenv()\n",
    "\n",
    "OPENAI_API_KEY = os.getenv(\"OPENAI_API_KEY\")\n",
    "PINECONE_API_KEY = os.getenv('PINECONE_API_KEY')\n",
    "PINECONE_ENVIRONMENT = os.getenv('PINECONE_ENVIRONMENT')\n",
    "PINECONE_INDEX = os.getenv('PINECONE_INDEX')"
   ]
  },
  {
   "cell_type": "markdown",
   "id": "d8d42c46-1fc2-4ca9-8e09-e44e1b26b2bb",
   "metadata": {},
   "source": [
    "# Init Pinecone VectorDB"
   ]
  },
  {
   "cell_type": "code",
   "execution_count": 3,
   "id": "c4dd96c9-f064-4204-9aab-e9929fd86bb5",
   "metadata": {},
   "outputs": [
    {
     "name": "stdout",
     "output_type": "stream",
     "text": [
      "['hackathon']\n",
      "IndexDescription(name='hackathon', metric='cosine', replicas=1, dimension=1536.0, shards=1, pods=1, pod_type='starter', status={'ready': True, 'state': 'Ready'}, metadata_config=None, source_collection='')\n",
      "{'dimension': 1536,\n",
      " 'index_fullness': 0.00019,\n",
      " 'namespaces': {'': {'vector_count': 19}},\n",
      " 'total_vector_count': 19}\n"
     ]
    }
   ],
   "source": [
    "pinecone.init(\n",
    "    api_key=PINECONE_API_KEY,\n",
    "    environment=PINECONE_ENVIRONMENT,\n",
    ")\n",
    "\n",
    "if PINECONE_INDEX not in pinecone.list_indexes():\n",
    "    pinecone.create_index(PINECONE_INDEX, dimension=1536, metric=\"cosine\")\n",
    "\n",
    "index = pinecone.Index(PINECONE_INDEX)\n",
    "\n",
    "print(pinecone.list_indexes())\n",
    "print(pinecone.describe_index(PINECONE_INDEX))\n",
    "print(index.describe_index_stats())"
   ]
  },
  {
   "cell_type": "code",
   "execution_count": 4,
   "id": "a72caa80-b06a-4645-8627-6a8db579bfb8",
   "metadata": {},
   "outputs": [],
   "source": [
    "embedding_function = OpenAIEmbeddings(model=\"text-embedding-ada-002\",\n",
    "                               disallowed_special=())\n",
    "\n",
    "vectorstore = Pinecone.from_existing_index(\n",
    "            index_name=PINECONE_INDEX,\n",
    "            embedding=embedding_function,\n",
    "            #namespace=namespace\n",
    "            )\n",
    "\n",
    "k = 10\n",
    "\n",
    "retriever = vectorstore.as_retriever(search_kwargs={\"k\": k}, return_source_documents=True)"
   ]
  },
  {
   "cell_type": "code",
   "execution_count": 5,
   "id": "1e3157fc-9f27-4457-97cb-27af86dd581d",
   "metadata": {},
   "outputs": [],
   "source": [
    "llm = ChatOpenAI(openai_api_key=OPENAI_API_KEY,\n",
    "                 model=\"gpt-4-1106-preview\",\n",
    "                 temperature=0)"
   ]
  },
  {
   "cell_type": "code",
   "execution_count": 6,
   "id": "d8ac57e3-0ac1-4337-84d2-3d6e903ca251",
   "metadata": {},
   "outputs": [],
   "source": [
    "template = \"\"\"\n",
    "        Vous êtes un assistant qui répond à des questions sur l'Université de Genève, basée en Suisse.\n",
    "        Utilisez les éléments de contexte et l'historique du chat suivants pour répondre aux questions. \n",
    "        Votre réponse doit être liée à l'Université de Genève uniquement. Si la question ne figure pas dans le contexte ou l'historique du chat, répondez \"Je suis désolé, je ne connais pas la réponse\".\n",
    "        Les réponses doivent être détaillées mais concises et courtes.\n",
    "        Respirez profondément et travaillez étape par étape.\n",
    "\n",
    "        Historique: {chat_history}\n",
    "        \n",
    "        Context: {context}\n",
    "\n",
    "        Question: {question}\n",
    "        Answer: \"\"\"\n",
    "\n",
    "prompt = PromptTemplate(input_variables=[\"chat_history\", \"context\", \"question\"], template=template)"
   ]
  },
  {
   "cell_type": "code",
   "execution_count": 7,
   "id": "138edaf3-0a6b-48ba-902a-6bc1ec2fc999",
   "metadata": {},
   "outputs": [],
   "source": [
    "from langchain.chains.conversation.memory import ConversationBufferMemory"
   ]
  },
  {
   "cell_type": "code",
   "execution_count": 33,
   "id": "0a924ff2-5e05-4e6c-bd78-45fde044cf6e",
   "metadata": {},
   "outputs": [],
   "source": [
    "conversational_memory = ConversationBufferWindowMemory(\n",
    "        memory_key='chat_history',\n",
    "        input_key=\"question\",\n",
    "        k=3,\n",
    "        return_messages=True\n",
    "    )"
   ]
  },
  {
   "cell_type": "code",
   "execution_count": 34,
   "id": "63ccd240-ebad-4a6d-a553-d60fa6f3e20f",
   "metadata": {},
   "outputs": [],
   "source": [
    "qa = RetrievalQA.from_chain_type(\n",
    "            llm=llm,\n",
    "            chain_type=\"stuff\",\n",
    "            retriever=retriever,\n",
    "            chain_type_kwargs={\"prompt\": prompt,\n",
    "                               \"memory\": conversational_memory},\n",
    "            return_source_documents=True,\n",
    "            verbose=False,\n",
    "            )"
   ]
  },
  {
   "cell_type": "code",
   "execution_count": 41,
   "id": "ab22f9e2-c61f-4fcc-8ba7-b00b38afe997",
   "metadata": {},
   "outputs": [],
   "source": [
    "res = qa({\"query\": \"bonjour?\"})"
   ]
  },
  {
   "cell_type": "code",
   "execution_count": 42,
   "id": "b8bd418d-46fc-4475-9856-f00f1d9835d7",
   "metadata": {},
   "outputs": [
    {
     "data": {
      "text/plain": [
       "{'chat_history': [HumanMessage(content=\"J'ai envie de prendre un congé durant mes études, quelle est la durée maximum autorisée?\"),\n",
       "  AIMessage(content='La durée totale du congé ne peut excéder 3 semestres pour un baccalauréat universitaire et 2 semestres pour une maîtrise universitaire.'),\n",
       "  HumanMessage(content=\"J'ai envie de prendre un congé durant mes études, quelle est la durée maximum autorisée?\"),\n",
       "  AIMessage(content='La durée totale du congé ne peut excéder 3 semestres pour un baccalauréat universitaire et 2 semestres pour une maîtrise universitaire.'),\n",
       "  HumanMessage(content='bonjour?'),\n",
       "  AIMessage(content=\"Bonjour! Comment puis-je vous aider concernant l'Université de Genève?\")]}"
      ]
     },
     "execution_count": 42,
     "metadata": {},
     "output_type": "execute_result"
    }
   ],
   "source": [
    "conversational_memory.load_memory_variables({})"
   ]
  },
  {
   "cell_type": "code",
   "execution_count": null,
   "id": "286eb2f3-7918-422d-a243-ad5f8157d428",
   "metadata": {},
   "outputs": [],
   "source": []
  },
  {
   "cell_type": "code",
   "execution_count": null,
   "id": "1d0ba1b1-04a1-4263-89f9-e58feae74799",
   "metadata": {},
   "outputs": [],
   "source": []
  },
  {
   "cell_type": "code",
   "execution_count": 32,
   "id": "53fe3a20-9426-4037-a387-aceb452cae3e",
   "metadata": {},
   "outputs": [],
   "source": [
    "res = qa({\"query\": \"Je suis en troisième année de médecine puis-je prendre une année sabatique ?\",\n",
    "          \"chat_history\": mem})"
   ]
  },
  {
   "cell_type": "code",
   "execution_count": 11,
   "id": "71d16d68-4d9e-4899-8ce3-be5346071f7d",
   "metadata": {},
   "outputs": [
    {
     "data": {
      "text/plain": [
       "'Je suis en troisième année de médecine puis-je prendre une année sabatique ?'"
      ]
     },
     "execution_count": 11,
     "metadata": {},
     "output_type": "execute_result"
    }
   ],
   "source": [
    "res[\"query\"]"
   ]
  },
  {
   "cell_type": "code",
   "execution_count": 12,
   "id": "f5f2713b-2e7f-4ae9-96f0-da392474075e",
   "metadata": {},
   "outputs": [
    {
     "data": {
      "text/plain": [
       "\"Oui, en tant qu'étudiant à l'Université de Genève, vous pouvez demander un congé, qui peut être accordé pour une période d'un semestre ou d'une année et est renouvelable. Cependant, la durée totale du congé ne peut excéder 3 semestres pour un baccalauréat universitaire. Vous devez adresser votre demande écrite au doyen au minimum un mois avant le début du semestre pour lequel vous souhaitez obtenir un congé. Pendant le congé, vous ne pouvez ni assister aux cours ou aux travaux pratiques, ni vous présenter aux évaluations.\""
      ]
     },
     "execution_count": 12,
     "metadata": {},
     "output_type": "execute_result"
    }
   ],
   "source": [
    "res[\"result\"]"
   ]
  },
  {
   "cell_type": "code",
   "execution_count": 13,
   "id": "1583a9b0-bc9f-417e-a453-3a4e3e1648f8",
   "metadata": {},
   "outputs": [
    {
     "data": {
      "text/plain": [
       "[Document(page_content=\"6 – Congé et études à temps partiel  \\n1. Le doyen peut accorder à l'étudiant qui en fait la demande écrite un congé. \\n \\n2. Le congé est accordé pour une période d’un semestre ou d’une année, il  est \\nrenouvelable. Sauf exception, la durée totale du congé ne peut excéder 3 semestres pour un baccalauréat universitaire et 2 semestres pour une maîtrise universitaire. \\n 3. Pendant l'interruption accordée (congé), l'étudiant ne peut ni assister aux cours  ou \\naux travaux pratiques, ni se présenter aux évaluations. \\n 4. Les demandes doivent être adressées au minimum un mois avant le début du \\nsemestre pour lequel l’étudiant souhaite obtenir un congé. \\n \\n5. Des études à temps partiel peuvent être envisagées dans certains cas. Les \\ndemandes dûment motivées doivent être adressées au doyen au minimum un mois avant le début de l’année académique pour laquelle l’étudiant souhaite obtenir un temps partiel. Le doyen ou, par délégation, le vice- doyen en charge des étudiants, \\nstatue sur la demande. Si la demande est acceptée, sa décision précise les nouveaux délais d’études qui sont fixés. \\n \\n6. Sont réservées les dispositions des conventions intercantonales sur la mobilité des \\nétudiants.\", metadata={'author': 'Faculté des sciences', 'title': \"Règlement d'études de la Faculté des sciences\", 'url': 'https://www.unige.ch/sciences/files/2115/3745/7266/RegleGen.pdf'}),\n",
       " Document(page_content=\"13 – Inscription, retrait et défaut aux examens des études de base (excepté \\nl'année propédeutique), des certificats (CC et CS), des masters of advanced studies  (MAS) et des compléments d’études (CE)  \\n1. L’étudiant s’inscrit aux examens au moyen d’un formulaire ad hoc en respectant le \\ndélai fixé par le décanat. Cette inscription est validée par le secrétariat des étudiants. \\n 2. Chaque évaluation ne peut être répétée qu’une seule fois. Toutefois l’étudiant dispose d’une 3\\nème tentative, pour une seule évaluation, par année réglementaire \\nd’études. \\n 3. Les étudiants inscrits en complément d’études (compléments de bachelor , plans \\nlibres, etc.) ne disposent pas d’une 3\\nème tentative.  \\n 4. Les retraits d'inscription aux examens sont admis pour 2 examens au maximum à la condition de respecter le délai fixé par le décanat. \\n \\n 7 \\n5. Lorsqu’un étudiant ne se présente pas à une évaluation pour laquelle il est inscrit \\nou ne rend pas un travail dans le délai imparti, il est considéré avoir échoué à cette \\névaluation (note 0) à moins que l’absence ne soit due à un juste motif. Sont \\nnotamment considérés comme des justes motifs les cas de maladies et d’accidents. L’étudiant doit en aviser le doyen de la Faculté par écrit immédiatement, soit en principe dans les 3 jours au maximum qui suivent la non présentation. Le doyen de la Faculté ou le vice- doyen en charge des étudiants décide s’il y a juste motif. Il \\npeut demander à l’étudiant de produire un certificat médical ainsi que tout autre renseignement jugé utile. \\n 6. Lorsque le doyen ou le vice- doyen en charge des étudiants le juge nécessaire, il \\npeut faire appel à un médecin conseil. Il en informe l’étudiant.\", metadata={'author': 'Faculté des sciences', 'title': \"Règlement d'études de la Faculté des sciences\", 'url': 'https://www.unige.ch/sciences/files/2115/3745/7266/RegleGen.pdf'}),\n",
       " Document(page_content=\"11 – Evaluations des études de base (excepté l'année propédeutiq ue), des \\ncertificats (CC et CS), des masters of advanced studies (MAS) et des \\ncompléments d’études (CE): principes et périodes  \\n1. Chaque unité d'enseignement est sanctionnée par une évaluation portant sur les \\nmatières figurant au plan d'études, ainsi que dans le règlement d’études spécifique au titre délivré. \\n \\n2. Les sessions d'examens ont lieu aux mois de janvier/février, mai/juin et \\naoût/septembre. \\n \\n3. Un étudiant ne peut participer à un enseignement, ni s’inscrire à l’évaluation \\ncorrespondante, tant qu'i l ne dispose pas des pré- requis définis dans le plan \\nd'études. \\n \\nArt\\\\. 12 – Inscription, retrait et défaut aux examens de l'année propédeutique \\n1. L’étudiant s’inscrit aux examens en ligne en respectant le délai fixé par le décanat. \\nCette inscription est val idée par le secrétariat des étudiants. \\n \\n2. Chaque évaluation ne peut être répétée qu’une seule fois par année d’études. \\n \\n3. Les retraits d'inscription aux examens sont admis pour 2 examens au maximum à la \\ncondition de respecter le délai fixé par le décanat. \\n 4. Lorsqu’un étudiant ne se présente pas à une évaluation pour laquelle il est inscrit ou ne rend pas un travail dans le délai imparti, il est considéré avoir échoué à cette évaluation (note 0) à moins que l’absence ne soit due à un juste motif. Sont notamment considérés comme des justes motifs les cas de maladies et d’accidents. L’étudiant doit en aviser le doyen de la Faculté par écrit immédiatement, soit en principe dans les 3 jours au maximum qui suivent la non présentation. Le doyen de \\nla Faculté ou le vice -doyen en charge des étudiants décide s’il y a juste motif. Il \\npeut demander à l’étudiant de produire un certificat médical ainsi que tout autre \\nrenseignement jugé utile. \\n 5. Lorsque le doyen ou le vice- doyen en charge des étudiants le juge nécessaire, il \\npeut faire appel à un médecin conseil. Il en informe l’étudiant.\", metadata={'author': 'Faculté des sciences', 'title': \"Règlement d'études de la Faculté des sciences\", 'url': 'https://www.unige.ch/sciences/files/2115/3745/7266/RegleGen.pdf'}),\n",
       " Document(page_content=\"2 – Conditions d'admission \\n1. Pour être admises à la Faculté des sciences, les personnes doivent remplir les conditions générales d'immatriculation requises par l'Université et celles fixées par \\nchaque règlement d'études spécifique au titre délivré. \\n 2. Les étudiants désirant entreprendre une for mation de base s’inscrivent pour la \\nrentrée universitaire du semestre d’automne. Si les études antérieures et le cursus envisagé le permettent, les étudiants peuvent être admis par dérogation au semestre du printemps. La décision est prise par le doyen ou, par délégation, par le \\nconseiller aux études facultaire, sur préavis des sections ou départements rattachés à la Faculté. \\n 3. Les étudiants désirant entreprendre une formation approfondie peuvent s’immatriculer en tout temps. \\n 4. La Faculté des sciences n’admet pas  :  \\na) les étudiants qui  ont déjà changé deux fois de cursus universitaire ou de Haute \\nEcole sans avoir réussi les études partielles entreprises jusque- là ; \\nb) les étudiants qui se sont fait éliminer à deux reprises d’un cursus universitaire ou d’une Haute Ecole ; \\nc) dans le même cursus d’études, les étudiants éliminés de cette branche d’études (swissuniversities  – ex -CRUS) dans une autre université ou Haute \\nEcole, ou encore qui ne peuvent pas continuer le dit cursus dans cette Haute-Ecole parce qu'ils ont été exclus. \\n 2 \\nd) Les étudiants qui ont été éliminés d'une autre Faculté ou Haute école pour des \\nmotifs disciplinaires graves  \\n \\n5. Pour les certificats de spécialisation ou les doctorats, ne peuvent être admis, en \\nprincipe, que les étudiants titulair es d'un titre universitaire d'au moins 270 crédits \\nECTS. Sur préavis de la Section concernée, le doyen statue sur les exceptions possibles. \\n 6 Pour les masters of advanced studies  (MAS) les étudiants ayant au moins 270 \\ncrédits ECTS de niveau universitaire peuvent être admis sur dossier. Sur préavis de la Section concernée, le doyen statue sur les exceptions possibles.\", metadata={'author': 'Faculté des sciences', 'title': \"Règlement d'études de la Faculté des sciences\", 'url': 'https://www.unige.ch/sciences/files/2115/3745/7266/RegleGen.pdf'}),\n",
       " Document(page_content=\"3 – Admission conditionnelle  \\n1. La Faculté des sciences peut admettre des étudiants à titre conditionnel lorsque \\nl'étudiant :  \\n- a été éliminé d'un cursus universitaire ou d’une autre Haute Ecole ou encore exclu de cette Haute- Ecole ; \\n- a déjà changé une fois de cursus universitaire ou de Haute Ecole; sans avoir \\nréussi les études partielles entreprises jusque- là. \\n \\n2. Si un étudiant souhai te changer de bachelor  (baccalauréat universitaire) après deux \\nsemestres d’études au sein de la Faculté, d'une autre Faculté ou d'une autre Haute Ecole, il peut être admis à titre conditionnel, ou son admission peut être refusée, en fonction de ses études antérieures. Toutefois, il ne peut changer plus d'une fois de \\nbachelor  (baccalauréat universitaire) sans avoir réussi les études partielles \\nentreprises jusque- là. \\n 3. Si un étudiant souhaite reprendre des études après avoir été éliminé d’un titre de bachel or (baccalauréat universitaire) de la Faculté mais après réussite d’un titre \\ndans une autre haute école, il peut être admis à titre conditionnel, ou son admission peut être refusée, en fonction de ses études antérieures et du master brigué. \\nToutefois, il ne peut être admis dans le master consécutif au bachelor  duquel il a \\nété éliminé. \\n \\n4. La décision est prise par le doyen ou, par délégation, par le conseiller aux études facultaire, qui peut tenir compte de circonstances exceptionnelles dûment justifiées.\", metadata={'author': 'Faculté des sciences', 'title': \"Règlement d'études de la Faculté des sciences\", 'url': 'https://www.unige.ch/sciences/files/2115/3745/7266/RegleGen.pdf'}),\n",
       " Document(page_content='7 – Organisation des études  \\nLa F aculté des sciences dispense trois types de formation : la formation de base, la \\nformation approfondie et la formation continue. \\n La formation de base est composée de deux cursus d’études  :  \\n- le premier cursus  : les études de bachelor  (baccalauréat univer sitaire) dont la \\npremière année est appelée année propédeutique ; \\n- le second cursus  : les études de master (maîtrise universitaire) . \\n La formation approfondie propose :  \\n- des certificats de spécialisation \\n- des études de doctorat.  \\nDe plus, la Faculté peut organiser des enseignements annexes qui aboutissent à la \\ndélivrance de certificats complémentaires (formation de base) ou de spécialisation (formation approfondie)  ou de certificats ou diplômes de formation continue, ou de MAS \\n(master of advanced studies ). \\n En outre, la Faculté peut aussi organiser des compléments d’études (compléments de bachelor  en sciences, plans libres, etc). Ils permettent de raccorder un cursus (par \\nexemple, un master) qui ne serait pas immédiatement accessible à un étudiant. Ces \\ncompléments d’études n’aboutissent pas à l’obtention d’un titre, mais l’échec définitif à \\nces compléments d’études ne permet pas l’admission au titre brigué.', metadata={'author': 'Faculté des sciences', 'title': \"Règlement d'études de la Faculté des sciences\", 'url': 'https://www.unige.ch/sciences/files/2115/3745/7266/RegleGen.pdf'}),\n",
       " Document(page_content=\"9 – Acquisition des crédits ECTS  \\n1. Les crédits ECTS attachés aux unités d'enseignement, travaux de fin d'études de \\nmaster  (maîtrise universitaire), de certificat complémentaire, de certificat de \\nspécialisation, de master  of advanced studies  (MAS) ou de certificat/diplôme de \\nformation continue sont acquis lorsqu’un étudiant a obtenu la note suffisante ou le certificat prévu à l’art. 8. \\n 2. La réussite des évaluations d'une année complète des études de base selon l'art. \\n14 donne droit en bloc à 60 crédits ECTS ; en tout état de cause, les crédits ECTS correspondants sont attribués aux étudiants pour les unités d’enseignement qui ont \\nété sanctionnées par une note au moins égale à 4 ou par l'obtention d'un certificat. \\n \\n3. Lorsqu'un plan d'études prévoit l’acquisition de crédits ECTS par le biais de cours choisis par l’étudiant (i. e. à option, libres, à choix, à choix restreint, avancés, etc.), en cas d'échec à l’évaluation, l’étudiant peut, soit refaire une fois l’examen, soit \\nchoisir un autre cours. Toutefois, dans ce cas, l’étudiant n’a plus qu’une tentative pour valider le nouveau cours. \\n \\nArt\\\\. 10 – Evaluations de l'année propédeutique : principes et périodes  \\n1. L'année d'études propédeutique est sanctionnée par une série d'évaluations portant \\nsur les matières figurant au plan d'études, ainsi que dans le règlement d’études spécifique au titre délivré. \\n 2. L'année d'études propédeutique ne peut être répétée qu'une seule fois. \\n 3. Les sessions d'examens ont lieu aux mois de janvier/février, mai/juin et août/septembre. \\n 4. Un étudiant ne peut s'inscrire à un enseignement de deuxième année tant qu'il n'a pas réussi l'année propédeutique. \\n \\n 6\", metadata={'author': 'Faculté des sciences', 'title': \"Règlement d'études de la Faculté des sciences\", 'url': 'https://www.unige.ch/sciences/files/2115/3745/7266/RegleGen.pdf'}),\n",
       " Document(page_content=\"17 – Travail de fin d'études de master  (maîtrise universitaire) ou de master of \\nadvanced studies \\n1. Le travail de fin d'études de master  (maîtrise universitaire) ou de master  of \\nadvanced studies  (MAS) est dirigé par un membre du corps professoral ou un \\nmaître d'enseignement et de recherche. En accord avec le responsable de la filière \\nconcernée, il peut également être dirigé par un chargé de cours ou un chargé \\nd’enseignement porteur d'un doctorat. Il peut également être co -dirigé par l’un des \\nmembres du corps enseignant précité ou une personne en possession d’un titre de \\ndocteur en accord avec le responsable de la filière concernée. \\n 2. Le délai dans lequel il doit être rendu ainsi que ses modalités sont fixés par le règlement d'études de chaque titre. Le président de Section peut accorder, sur \\npréavis du directeur du travail, une prolongation du délai. \\n 3. Le travail de fin d'études de master  (maîtrise universitaire) ou de master  of \\nadvanced studies  est assimilé à un exam en écrit. Il peut être présenté deux fois au \\nmaximum.\", metadata={'author': 'Faculté des sciences', 'title': \"Règlement d'études de la Faculté des sciences\", 'url': 'https://www.unige.ch/sciences/files/2115/3745/7266/RegleGen.pdf'}),\n",
       " Document(page_content=\"19 – Elimination \\n1. Est éliminé du titre brigué l'étudiant qui  :  \\na) a répété sans succès l'année propédeutique; \\nb) ne peut plus répéter l’évaluation d’un enseignement des études de base, d’un certificat complémentaire, d’un certificat de spécialisation, d’un complément de bachelor  ou du master of advanced studies  (MAS- maîtrise universitaire \\nd’études avancées) ou d’un certificat ou diplôme de formation continue non réussie selon l’article 14; \\nc) n’a pas obtenu au moins 20 crédits ECTS (équivalences exclues) durant les 2 \\npremiers semestres de ses études de bachelor  ou de master  ; \\nd) ne peut plus répéter l’évaluation d’un enseignement à option dans le cadre des limites fixées par l’article 9, ali néa 3 ; \\ne) n'a pas obtenu le titre brigué dans le délai d'études suivant : \\n- pour les titres  en   30 crédits ECTS : 2 semestres  \\n- pour les titres  en   60 crédits ECTS : 4 semestres  \\n- pour les titres  en   90 crédits ECTS : 6 semestres  \\n- pour les titres  en 120 crédits ECTS : 8 semestres  \\n- pour les titres  en 180 crédits ECTS : 10 semestres. \\n 2. En cas d’obtention d’équivalences, les délais pour l’obtention du titre sont fonction des crédits effectifs à acquérir; l’élimination intervient lors du dépassement des délais cités à l’Art\\\\. 19. al. 1e. \\n 3. En cas d’études à temps partiel, les délais fixés aux lettres c) et d) de l’alinéa 1 ci -\\ndessus sont ceux qui ont été communiqués par écrit, par le doyen ou par délégation \\npar le vice- doyen en charge des étudiants, à l’étudiant concerné selon l’Art\\\\. 6 al. 5. \\n \\n4. Sont réservés les cas de fraude, plagiat, tentative de fraude ou de plagiat. \\n 5. Les éliminations sont prononcées par le doyen. \\n 6. Sont réservées les dispositions particulières des règlements relatifs aux certificats complémentaires, aux certificats de spécialisation, aux masters of advanced s tudies  \\n(MAS) et aux titres de formation continue.\", metadata={'author': 'Faculté des sciences', 'title': \"Règlement d'études de la Faculté des sciences\", 'url': 'https://www.unige.ch/sciences/files/2115/3745/7266/RegleGen.pdf'}),\n",
       " Document(page_content=\"20 – Procédures d’oppositions et de recours  \\n1. Toute décision prise en application du présent règlement d’études peut faire l’objet \\ndans le délai de 30 jours dès le lendemain de sa notification d’une opposition \\nauprès de l’organe qui l’a rendue. \\n 2. Le Règlement relatif à la procédure d’opposition au sein de l’Université de Genève \\n(RIO -UNIGE) du 16 mars 2009 s’applique. \\n \\n 10 \\n3. Un recours devant la chambre administrative de la section administrative de la Cour \\nde justice peut être interjeté contre la décision sur opposition qui sera rendue en \\npremière instance dans le délai de 30 jours qui suit le lendemain de sa notification. \\n \\nArt\\\\. 21 – Diplômes fédéraux, conventions internationales, intercantonales et \\ninteruniversitaires. \\nSont réservées toutes les dispositions relatives  :  \\na) aux diplômes fédéraux et, par extension, aux diplômes universitaires correspondants; \\nb) aux conventions intercantonales, internationales et interuniversitaires, en particulier celles concernant la mobilité des étudiants. \\n \\nArt\\\\. 22 – Reprise des études au sein de la Faculté des sciences \\nUn étudiant qui a interrompu ses études au sein de la Faculté des sciences sans  avoir \\nété en situation d'élimination peut reprendre ses études à une date ultérieure. Il doit \\ncependant se conformer au règlement en vigueur au moment de la reprise de ses études. Le doyen de la Faculté ou, par délégation, le vice- doyen en charge des \\nétudiants, appréciera par voie d'équivalence les résultats acquis précédemment et peut \\nsoumettre l’admission à des conditions.\", metadata={'author': 'Faculté des sciences', 'title': \"Règlement d'études de la Faculté des sciences\", 'url': 'https://www.unige.ch/sciences/files/2115/3745/7266/RegleGen.pdf'})]"
      ]
     },
     "execution_count": 13,
     "metadata": {},
     "output_type": "execute_result"
    }
   ],
   "source": [
    "res[\"source_documents\"]"
   ]
  },
  {
   "cell_type": "code",
   "execution_count": null,
   "id": "ba6e2645-a28e-4303-b40e-330bbb7c7665",
   "metadata": {},
   "outputs": [],
   "source": []
  },
  {
   "cell_type": "code",
   "execution_count": null,
   "id": "f67119d2-9110-4de3-b036-2639468763c1",
   "metadata": {},
   "outputs": [],
   "source": []
  },
  {
   "cell_type": "code",
   "execution_count": null,
   "id": "15c87192-6ce5-4667-a78e-c5742c2aa639",
   "metadata": {},
   "outputs": [],
   "source": []
  },
  {
   "cell_type": "code",
   "execution_count": 39,
   "id": "9bc96128-0308-428b-a241-e8517a4d13cc",
   "metadata": {},
   "outputs": [
    {
     "data": {
      "text/plain": [
       "ConversationBufferWindowMemory(chat_memory=ChatMessageHistory(messages=[HumanMessage(content=\"J'ai envie de prendre un congé durant mes études, quelle est la durée maximum autorisée?\"), AIMessage(content='La durée totale du congé ne peut excéder 3 semestres pour un baccalauréat universitaire et 2 semestres pour une maîtrise universitaire.'), HumanMessage(content=\"J'ai envie de prendre un congé durant mes études, quelle est la durée maximum autorisée?\"), AIMessage(content='La durée totale du congé ne peut excéder 3 semestres pour un baccalauréat universitaire et 2 semestres pour une maîtrise universitaire.'), HumanMessage(content=\"J'ai envie de prendre un congé durant mes études, quelle est la durée maximum autorisée?\"), AIMessage(content='La durée totale du congé ne peut excéder 3 semestres pour un baccalauréat universitaire et 2 semestres pour une maîtrise universitaire.'), HumanMessage(content=\"J'ai envie de prendre un congé durant mes études, quelle est la durée maximum autorisée?\"), AIMessage(content='La durée totale du congé ne peut excéder 3 semestres pour un baccalauréat universitaire et 2 semestres pour une maîtrise universitaire.')]), input_key='question', return_messages=True, memory_key='chat_history', k=3)"
      ]
     },
     "execution_count": 39,
     "metadata": {},
     "output_type": "execute_result"
    }
   ],
   "source": [
    "qa.combine_documents_chain.memory"
   ]
  },
  {
   "cell_type": "code",
   "execution_count": 15,
   "id": "98c3b3c4-0c35-41fc-aa49-bac26a29dc9a",
   "metadata": {},
   "outputs": [
    {
     "data": {
      "text/plain": [
       "ChatMessageHistory(messages=[HumanMessage(content='Je suis en troisième année de médecine puis-je prendre une année sabatique ?'), AIMessage(content=\"Oui, en tant qu'étudiant à l'Université de Genève, vous pouvez demander un congé, qui peut être accordé pour une période d'un semestre ou d'une année et est renouvelable. Cependant, la durée totale du congé ne peut excéder 3 semestres pour un baccalauréat universitaire. Vous devez adresser votre demande écrite au doyen au minimum un mois avant le début du semestre pour lequel vous souhaitez obtenir un congé. Pendant le congé, vous ne pouvez ni assister aux cours ou aux travaux pratiques, ni vous présenter aux évaluations.\")])"
      ]
     },
     "execution_count": 15,
     "metadata": {},
     "output_type": "execute_result"
    }
   ],
   "source": [
    "qa.combine_documents_chain.memory.chat_memory"
   ]
  },
  {
   "cell_type": "code",
   "execution_count": 30,
   "id": "419070f0-2f82-40cc-b219-a11689edd19d",
   "metadata": {},
   "outputs": [],
   "source": [
    "qa.memory"
   ]
  },
  {
   "cell_type": "code",
   "execution_count": 23,
   "id": "40094acc-2bc4-4fd5-9c55-abcd10af628d",
   "metadata": {},
   "outputs": [
    {
     "data": {
      "text/plain": [
       "['Config',\n",
       " 'InputType',\n",
       " 'OutputType',\n",
       " '__abstractmethods__',\n",
       " '__annotations__',\n",
       " '__call__',\n",
       " '__class__',\n",
       " '__class_getitem__',\n",
       " '__class_vars__',\n",
       " '__config__',\n",
       " '__custom_root_type__',\n",
       " '__delattr__',\n",
       " '__dict__',\n",
       " '__dir__',\n",
       " '__doc__',\n",
       " '__eq__',\n",
       " '__exclude_fields__',\n",
       " '__fields__',\n",
       " '__fields_set__',\n",
       " '__format__',\n",
       " '__ge__',\n",
       " '__get_validators__',\n",
       " '__getattribute__',\n",
       " '__getstate__',\n",
       " '__gt__',\n",
       " '__hash__',\n",
       " '__include_fields__',\n",
       " '__init__',\n",
       " '__init_subclass__',\n",
       " '__iter__',\n",
       " '__json_encoder__',\n",
       " '__le__',\n",
       " '__lt__',\n",
       " '__module__',\n",
       " '__ne__',\n",
       " '__new__',\n",
       " '__or__',\n",
       " '__orig_bases__',\n",
       " '__parameters__',\n",
       " '__post_root_validators__',\n",
       " '__pre_root_validators__',\n",
       " '__pretty__',\n",
       " '__private_attributes__',\n",
       " '__reduce__',\n",
       " '__reduce_ex__',\n",
       " '__repr__',\n",
       " '__repr_args__',\n",
       " '__repr_name__',\n",
       " '__repr_str__',\n",
       " '__rich_repr__',\n",
       " '__ror__',\n",
       " '__schema_cache__',\n",
       " '__setattr__',\n",
       " '__setstate__',\n",
       " '__signature__',\n",
       " '__sizeof__',\n",
       " '__slots__',\n",
       " '__str__',\n",
       " '__subclasshook__',\n",
       " '__try_update_forward_refs__',\n",
       " '__validators__',\n",
       " '__weakref__',\n",
       " '_abatch_with_config',\n",
       " '_abc_impl',\n",
       " '_acall',\n",
       " '_acall_with_config',\n",
       " '_aget_docs',\n",
       " '_atransform_stream_with_config',\n",
       " '_batch_with_config',\n",
       " '_calculate_keys',\n",
       " '_call',\n",
       " '_call_with_config',\n",
       " '_chain_type',\n",
       " '_copy_and_set_values',\n",
       " '_decompose_class',\n",
       " '_enforce_dict_if_root',\n",
       " '_get_docs',\n",
       " '_get_value',\n",
       " '_init_private_attributes',\n",
       " '_is_protocol',\n",
       " '_iter',\n",
       " '_lc_kwargs',\n",
       " '_run_output_key',\n",
       " '_transform_stream_with_config',\n",
       " '_validate_inputs',\n",
       " '_validate_outputs',\n",
       " 'abatch',\n",
       " 'acall',\n",
       " 'ainvoke',\n",
       " 'apply',\n",
       " 'arun',\n",
       " 'astream',\n",
       " 'astream_log',\n",
       " 'atransform',\n",
       " 'batch',\n",
       " 'bind',\n",
       " 'callback_manager',\n",
       " 'callbacks',\n",
       " 'combine_documents_chain',\n",
       " 'config_schema',\n",
       " 'config_specs',\n",
       " 'configurable_alternatives',\n",
       " 'configurable_fields',\n",
       " 'construct',\n",
       " 'copy',\n",
       " 'dict',\n",
       " 'from_chain_type',\n",
       " 'from_llm',\n",
       " 'from_orm',\n",
       " 'get_input_schema',\n",
       " 'get_lc_namespace',\n",
       " 'get_output_schema',\n",
       " 'input_key',\n",
       " 'input_keys',\n",
       " 'input_schema',\n",
       " 'invoke',\n",
       " 'is_lc_serializable',\n",
       " 'json',\n",
       " 'lc_attributes',\n",
       " 'lc_id',\n",
       " 'lc_secrets',\n",
       " 'map',\n",
       " 'memory',\n",
       " 'metadata',\n",
       " 'output_key',\n",
       " 'output_keys',\n",
       " 'output_schema',\n",
       " 'parse_file',\n",
       " 'parse_obj',\n",
       " 'parse_raw',\n",
       " 'prep_inputs',\n",
       " 'prep_outputs',\n",
       " 'raise_callback_manager_deprecation',\n",
       " 'retriever',\n",
       " 'return_source_documents',\n",
       " 'run',\n",
       " 'save',\n",
       " 'schema',\n",
       " 'schema_json',\n",
       " 'set_verbose',\n",
       " 'stream',\n",
       " 'tags',\n",
       " 'to_json',\n",
       " 'to_json_not_implemented',\n",
       " 'transform',\n",
       " 'update_forward_refs',\n",
       " 'validate',\n",
       " 'verbose',\n",
       " 'with_config',\n",
       " 'with_fallbacks',\n",
       " 'with_listeners',\n",
       " 'with_retry',\n",
       " 'with_types']"
      ]
     },
     "execution_count": 23,
     "metadata": {},
     "output_type": "execute_result"
    }
   ],
   "source": [
    "dir(qa)"
   ]
  },
  {
   "cell_type": "code",
   "execution_count": 19,
   "id": "31ea71e2-1f7d-461a-b05e-1ad55efc22bb",
   "metadata": {},
   "outputs": [],
   "source": [
    "from langchain.memory import ConversationBufferWindowMemory"
   ]
  },
  {
   "cell_type": "code",
   "execution_count": 20,
   "id": "9361b8b4-c2a9-4d59-be6d-8547ac2025ad",
   "metadata": {},
   "outputs": [],
   "source": [
    "memory = ConversationBufferWindowMemory( k=1)"
   ]
  },
  {
   "cell_type": "code",
   "execution_count": 21,
   "id": "01f2fb82-8146-4ce5-94c2-ea0015df8af2",
   "metadata": {},
   "outputs": [],
   "source": [
    "memory.save_context({\"input\": \"hi\"}, {\"output\": \"whats up\"})\n",
    "memory.save_context({\"input\": \"not much you\"}, {\"output\": \"not much\"})"
   ]
  },
  {
   "cell_type": "code",
   "execution_count": 22,
   "id": "6333e1e3-56b7-46d1-8ad7-1cf716e55cc2",
   "metadata": {},
   "outputs": [
    {
     "data": {
      "text/plain": [
       "{'history': 'Human: not much you\\nAI: not much'}"
      ]
     },
     "execution_count": 22,
     "metadata": {},
     "output_type": "execute_result"
    }
   ],
   "source": [
    "memory.load_memory_variables({})"
   ]
  },
  {
   "cell_type": "code",
   "execution_count": null,
   "id": "88c306db-a970-4010-987f-68569aabaa9d",
   "metadata": {},
   "outputs": [],
   "source": []
  }
 ],
 "metadata": {
  "kernelspec": {
   "display_name": "venv_unigpt",
   "language": "python",
   "name": "venv_unigpt"
  },
  "language_info": {
   "codemirror_mode": {
    "name": "ipython",
    "version": 3
   },
   "file_extension": ".py",
   "mimetype": "text/x-python",
   "name": "python",
   "nbconvert_exporter": "python",
   "pygments_lexer": "ipython3",
   "version": "3.11.5"
  }
 },
 "nbformat": 4,
 "nbformat_minor": 5
}
