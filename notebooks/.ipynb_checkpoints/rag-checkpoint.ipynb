{
 "cells": [
  {
   "cell_type": "markdown",
   "id": "ddededef-f646-4827-bf9a-e652ce3d24c4",
   "metadata": {},
   "source": [
    "# Load libraries"
   ]
  },
  {
   "cell_type": "code",
   "execution_count": 1,
   "id": "2a99d025-28d9-4190-ae93-e8a50d67b6b6",
   "metadata": {},
   "outputs": [
    {
     "name": "stderr",
     "output_type": "stream",
     "text": [
      "/Users/kieranschubert/Desktop/unigpt-assist/venv_unigpt/lib/python3.11/site-packages/pinecone/index.py:4: TqdmWarning: IProgress not found. Please update jupyter and ipywidgets. See https://ipywidgets.readthedocs.io/en/stable/user_install.html\n",
      "  from tqdm.autonotebook import tqdm\n"
     ]
    }
   ],
   "source": [
    "import pandas as pd\n",
    "\n",
    "from langchain.chat_models import ChatOpenAI\n",
    "from langchain.embeddings import OpenAIEmbeddings\n",
    "from langchain.schema import Document\n",
    "from langchain.chains import RetrievalQA\n",
    "from langchain.prompts import PromptTemplate\n",
    "\n",
    "import pinecone\n",
    "from langchain.vectorstores import Pinecone\n",
    "\n",
    "import os\n",
    "from dotenv import load_dotenv"
   ]
  },
  {
   "cell_type": "markdown",
   "id": "ce05a5a3-c566-4d11-8eaf-86e15f699ddf",
   "metadata": {},
   "source": [
    "# Load dotenv"
   ]
  },
  {
   "cell_type": "code",
   "execution_count": 17,
   "id": "971f5e20-416e-4f53-9a7d-4c66272d30ed",
   "metadata": {},
   "outputs": [],
   "source": [
    "load_dotenv()\n",
    "\n",
    "OPENAI_API_KEY = os.getenv(\"OPENAI_API_KEY\")\n",
    "PINECONE_API_KEY = os.getenv('PINECONE_API_KEY')\n",
    "PINECONE_ENVIRONMENT = os.getenv('PINECONE_ENVIRONMENT')\n",
    "PINECONE_INDEX_1 = os.getenv('PINECONE_INDEX_1')\n",
    "PINECONE_INDEX_2 = os.getenv('PINECONE_INDEX_2')"
   ]
  },
  {
   "cell_type": "markdown",
   "id": "d8d42c46-1fc2-4ca9-8e09-e44e1b26b2bb",
   "metadata": {},
   "source": [
    "# Init Pinecone VectorDB"
   ]
  },
  {
   "cell_type": "code",
   "execution_count": 5,
   "id": "c4dd96c9-f064-4204-9aab-e9929fd86bb5",
   "metadata": {},
   "outputs": [
    {
     "name": "stdout",
     "output_type": "stream",
     "text": [
      "['hackathon-cours', 'hackathon-reglement']\n",
      "IndexDescription(name='hackathon-reglement', metric='cosine', replicas=1, dimension=1536.0, shards=1, pods=1, pod_type='s1.x1', status={'ready': True, 'state': 'Ready'}, metadata_config=None, source_collection='')\n",
      "{'dimension': 1536,\n",
      " 'index_fullness': 0.0,\n",
      " 'namespaces': {'': {'vector_count': 241}},\n",
      " 'total_vector_count': 241}\n"
     ]
    }
   ],
   "source": [
    "pinecone.init(\n",
    "    api_key=PINECONE_API_KEY,\n",
    "    environment=PINECONE_ENVIRONMENT,\n",
    ")\n",
    "\n",
    "if PINECONE_INDEX_1 not in pinecone.list_indexes():\n",
    "    pinecone.create_index(PINECONE_INDEX_1, dimension=1536, metric=\"cosine\")\n",
    "\n",
    "index = pinecone.Index(PINECONE_INDEX_1)\n",
    "\n",
    "print(pinecone.list_indexes())\n",
    "print(pinecone.describe_index(PINECONE_INDEX_1))\n",
    "print(index.describe_index_stats())"
   ]
  },
  {
   "cell_type": "code",
   "execution_count": 23,
   "id": "a72caa80-b06a-4645-8627-6a8db579bfb8",
   "metadata": {},
   "outputs": [],
   "source": [
    "embedding_function = OpenAIEmbeddings(model=\"text-embedding-ada-002\",\n",
    "                               disallowed_special=())\n",
    "\n",
    "vectorstore = Pinecone.from_existing_index(\n",
    "            index_name=PINECONE_INDEX_1,\n",
    "            embedding=embedding_function,\n",
    "            #namespace=namespace\n",
    "            )\n",
    "\n",
    "k = 10\n",
    "\n",
    "retriever = vectorstore.as_retriever(search_kwargs={\"k\": k}, return_source_documents=True)\n",
    "\n",
    "embedding_function = OpenAIEmbeddings(model=\"text-embedding-ada-002\",\n",
    "                               disallowed_special=())\n",
    "\n",
    "vectorstore_2 = Pinecone.from_existing_index(\n",
    "            index_name=PINECONE_INDEX_2,\n",
    "            embedding=embedding_function,\n",
    "            #namespace=namespace\n",
    "            )\n",
    "\n",
    "k = 5\n",
    "\n",
    "retriever_2 = vectorstore_2.as_retriever(search_kwargs={\"k\": k}, return_source_documents=True)"
   ]
  },
  {
   "cell_type": "code",
   "execution_count": 24,
   "id": "1e3157fc-9f27-4457-97cb-27af86dd581d",
   "metadata": {},
   "outputs": [],
   "source": [
    "llm = ChatOpenAI(openai_api_key=OPENAI_API_KEY,\n",
    "                 model=\"gpt-4-1106-preview\",\n",
    "                 temperature=0)"
   ]
  },
  {
   "cell_type": "code",
   "execution_count": 25,
   "id": "d8ac57e3-0ac1-4337-84d2-3d6e903ca251",
   "metadata": {},
   "outputs": [],
   "source": [
    "template = \"\"\"\n",
    "        Vous êtes un assistant qui répond à des questions sur l'Université de Genève, basée en Suisse.\n",
    "        Utilisez les éléments de contexte et l'historique du chat suivants pour répondre aux questions. \n",
    "        Votre réponse doit être liée à l'Université de Genève uniquement. Si la question ne figure pas dans le contexte ou l'historique du chat, répondez \"Je suis désolé, je ne connais pas la réponse\".\n",
    "        Les réponses doivent être détaillées mais concises et courtes.\n",
    "        Respirez profondément et travaillez étape par étape.\n",
    "\n",
    "        Historique: {chat_history}\n",
    "        \n",
    "        Context: {context}\n",
    "\n",
    "        Question: {question}\n",
    "        Answer: \"\"\"\n",
    "\n",
    "prompt = PromptTemplate(input_variables=[\"chat_history\", \"context\", \"question\"], template=template)"
   ]
  },
  {
   "cell_type": "code",
   "execution_count": 26,
   "id": "138edaf3-0a6b-48ba-902a-6bc1ec2fc999",
   "metadata": {},
   "outputs": [],
   "source": [
    "from langchain.chains.conversation.memory import ConversationBufferWindowMemory"
   ]
  },
  {
   "cell_type": "code",
   "execution_count": 27,
   "id": "0a924ff2-5e05-4e6c-bd78-45fde044cf6e",
   "metadata": {},
   "outputs": [],
   "source": [
    "conversational_memory = ConversationBufferWindowMemory(\n",
    "        memory_key='chat_history',\n",
    "        input_key=\"question\",\n",
    "        k=3,\n",
    "        return_messages=True\n",
    "    )"
   ]
  },
  {
   "cell_type": "code",
   "execution_count": 28,
   "id": "63ccd240-ebad-4a6d-a553-d60fa6f3e20f",
   "metadata": {},
   "outputs": [],
   "source": [
    "qa = RetrievalQA.from_chain_type(\n",
    "            llm=llm,\n",
    "            chain_type=\"stuff\",\n",
    "            retriever=retriever,\n",
    "            chain_type_kwargs={\"prompt\": prompt,\n",
    "                               \"memory\": conversational_memory},\n",
    "            return_source_documents=True,\n",
    "            verbose=False,\n",
    "            )"
   ]
  },
  {
   "cell_type": "code",
   "execution_count": null,
   "id": "ab22f9e2-c61f-4fcc-8ba7-b00b38afe997",
   "metadata": {},
   "outputs": [],
   "source": [
    "res = qa({\"query\": \"bonjour?\"})"
   ]
  },
  {
   "cell_type": "code",
   "execution_count": null,
   "id": "b8bd418d-46fc-4475-9856-f00f1d9835d7",
   "metadata": {},
   "outputs": [],
   "source": [
    "conversational_memory.load_memory_variables({})"
   ]
  },
  {
   "cell_type": "code",
   "execution_count": null,
   "id": "286eb2f3-7918-422d-a243-ad5f8157d428",
   "metadata": {},
   "outputs": [],
   "source": []
  },
  {
   "cell_type": "code",
   "execution_count": null,
   "id": "1d0ba1b1-04a1-4263-89f9-e58feae74799",
   "metadata": {},
   "outputs": [],
   "source": []
  },
  {
   "cell_type": "code",
   "execution_count": null,
   "id": "53fe3a20-9426-4037-a387-aceb452cae3e",
   "metadata": {},
   "outputs": [],
   "source": [
    "res = qa({\"query\": \"Je suis en troisième année de médecine puis-je prendre une année sabatique ?\",\n",
    "          \"chat_history\": mem})"
   ]
  },
  {
   "cell_type": "code",
   "execution_count": null,
   "id": "71d16d68-4d9e-4899-8ce3-be5346071f7d",
   "metadata": {},
   "outputs": [],
   "source": [
    "res[\"query\"]"
   ]
  },
  {
   "cell_type": "code",
   "execution_count": null,
   "id": "f5f2713b-2e7f-4ae9-96f0-da392474075e",
   "metadata": {},
   "outputs": [],
   "source": [
    "res[\"result\"]"
   ]
  },
  {
   "cell_type": "code",
   "execution_count": null,
   "id": "1583a9b0-bc9f-417e-a453-3a4e3e1648f8",
   "metadata": {},
   "outputs": [],
   "source": [
    "res[\"source_documents\"]"
   ]
  },
  {
   "cell_type": "code",
   "execution_count": null,
   "id": "ba6e2645-a28e-4303-b40e-330bbb7c7665",
   "metadata": {},
   "outputs": [],
   "source": []
  },
  {
   "cell_type": "code",
   "execution_count": null,
   "id": "f67119d2-9110-4de3-b036-2639468763c1",
   "metadata": {},
   "outputs": [],
   "source": []
  },
  {
   "cell_type": "code",
   "execution_count": null,
   "id": "15c87192-6ce5-4667-a78e-c5742c2aa639",
   "metadata": {},
   "outputs": [],
   "source": []
  },
  {
   "cell_type": "code",
   "execution_count": null,
   "id": "9bc96128-0308-428b-a241-e8517a4d13cc",
   "metadata": {},
   "outputs": [],
   "source": [
    "qa.combine_documents_chain.memory"
   ]
  },
  {
   "cell_type": "code",
   "execution_count": null,
   "id": "98c3b3c4-0c35-41fc-aa49-bac26a29dc9a",
   "metadata": {},
   "outputs": [],
   "source": [
    "qa.combine_documents_chain.memory.chat_memory"
   ]
  },
  {
   "cell_type": "code",
   "execution_count": null,
   "id": "419070f0-2f82-40cc-b219-a11689edd19d",
   "metadata": {},
   "outputs": [],
   "source": [
    "qa.memory"
   ]
  },
  {
   "cell_type": "code",
   "execution_count": null,
   "id": "40094acc-2bc4-4fd5-9c55-abcd10af628d",
   "metadata": {},
   "outputs": [],
   "source": [
    "dir(qa)"
   ]
  },
  {
   "cell_type": "code",
   "execution_count": null,
   "id": "31ea71e2-1f7d-461a-b05e-1ad55efc22bb",
   "metadata": {},
   "outputs": [],
   "source": [
    "from langchain.memory import ConversationBufferWindowMemory"
   ]
  },
  {
   "cell_type": "code",
   "execution_count": null,
   "id": "9361b8b4-c2a9-4d59-be6d-8547ac2025ad",
   "metadata": {},
   "outputs": [],
   "source": [
    "memory = ConversationBufferWindowMemory( k=1)"
   ]
  },
  {
   "cell_type": "code",
   "execution_count": null,
   "id": "01f2fb82-8146-4ce5-94c2-ea0015df8af2",
   "metadata": {},
   "outputs": [],
   "source": [
    "memory.save_context({\"input\": \"hi\"}, {\"output\": \"whats up\"})\n",
    "memory.save_context({\"input\": \"not much you\"}, {\"output\": \"not much\"})"
   ]
  },
  {
   "cell_type": "code",
   "execution_count": null,
   "id": "6333e1e3-56b7-46d1-8ad7-1cf716e55cc2",
   "metadata": {},
   "outputs": [],
   "source": [
    "memory.load_memory_variables({})"
   ]
  },
  {
   "cell_type": "code",
   "execution_count": null,
   "id": "88c306db-a970-4010-987f-68569aabaa9d",
   "metadata": {},
   "outputs": [],
   "source": []
  }
 ],
 "metadata": {
  "kernelspec": {
   "display_name": "venv_unigpt",
   "language": "python",
   "name": "venv_unigpt"
  },
  "language_info": {
   "codemirror_mode": {
    "name": "ipython",
    "version": 3
   },
   "file_extension": ".py",
   "mimetype": "text/x-python",
   "name": "python",
   "nbconvert_exporter": "python",
   "pygments_lexer": "ipython3",
   "version": "3.11.5"
  }
 },
 "nbformat": 4,
 "nbformat_minor": 5
}
