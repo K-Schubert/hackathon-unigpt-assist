{
 "cells": [
  {
   "cell_type": "markdown",
   "id": "ddededef-f646-4827-bf9a-e652ce3d24c4",
   "metadata": {},
   "source": [
    "# Load libraries"
   ]
  },
  {
   "cell_type": "code",
   "execution_count": 3,
   "id": "2a99d025-28d9-4190-ae93-e8a50d67b6b6",
   "metadata": {},
   "outputs": [],
   "source": [
    "import pandas as pd\n",
    "\n",
    "from langchain.chat_models import ChatOpenAI\n",
    "from langchain.embeddings import OpenAIEmbeddings\n",
    "from langchain.schema import Document\n",
    "from langchain.chains import RetrievalQA\n",
    "\n",
    "import pinecone\n",
    "from langchain.vectorstores import Pinecone\n",
    "\n",
    "import os\n",
    "from dotenv import load_dotenv"
   ]
  },
  {
   "cell_type": "markdown",
   "id": "ce05a5a3-c566-4d11-8eaf-86e15f699ddf",
   "metadata": {},
   "source": [
    "# Load dotenv"
   ]
  },
  {
   "cell_type": "code",
   "execution_count": 4,
   "id": "971f5e20-416e-4f53-9a7d-4c66272d30ed",
   "metadata": {},
   "outputs": [],
   "source": [
    "load_dotenv()\n",
    "\n",
    "OPENAI_API_KEY = os.getenv(\"OPENAI_API_KEY\")\n",
    "PINECONE_API_KEY = os.getenv('PINECONE_API_KEY')\n",
    "PINECONE_ENVIRONMENT = os.getenv('PINECONE_ENVIRONMENT')\n",
    "PINECONE_INDEX = os.getenv('PINECONE_INDEX')"
   ]
  },
  {
   "cell_type": "code",
   "execution_count": null,
   "id": "5c64b21a-7ddb-4d3c-8ab6-8f8a659c04c1",
   "metadata": {},
   "outputs": [],
   "source": []
  }
 ],
 "metadata": {
  "kernelspec": {
   "display_name": "venv_unigpt",
   "language": "python",
   "name": "venv_unigpt"
  },
  "language_info": {
   "codemirror_mode": {
    "name": "ipython",
    "version": 3
   },
   "file_extension": ".py",
   "mimetype": "text/x-python",
   "name": "python",
   "nbconvert_exporter": "python",
   "pygments_lexer": "ipython3",
   "version": "3.11.5"
  }
 },
 "nbformat": 4,
 "nbformat_minor": 5
}
