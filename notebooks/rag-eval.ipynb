{
 "cells": [
  {
   "cell_type": "markdown",
   "id": "3c8d8cdb-8db1-4d0a-9ebb-d1b590fab409",
   "metadata": {},
   "source": [
    "# Import libraries"
   ]
  },
  {
   "cell_type": "code",
   "execution_count": 75,
   "id": "7518a00a-913e-41ff-8814-c8ecca0d5c3a",
   "metadata": {},
   "outputs": [],
   "source": [
    "from langchain.schema import SystemMessage\n",
    "from langchain.output_parsers import PydanticOutputParser\n",
    "from langchain.prompts import PromptTemplate\n",
    "from langchain.pydantic_v1 import BaseModel, Field, validator\n",
    "from langchain.chat_models import ChatOpenAI\n",
    "import glob\n",
    "import pandas as pd\n",
    "from datasets import Dataset, load_from_disk\n",
    "\n",
    "import os\n",
    "from dotenv import load_dotenv\n",
    "import json\n",
    "import tqdm"
   ]
  },
  {
   "cell_type": "markdown",
   "id": "a79a50a0-452a-4791-9b0b-93ee96653a7f",
   "metadata": {},
   "source": [
    "# Load env variables"
   ]
  },
  {
   "cell_type": "code",
   "execution_count": 7,
   "id": "3b26110e-d6ab-4c17-bbf3-0f7cc57dbefc",
   "metadata": {},
   "outputs": [],
   "source": [
    "load_dotenv()\n",
    "os.environ[\"OPENAI_API_KEY\"] = os.getenv(\"OPENAI_API_KEY\")\n",
    "OPENAI_API_KEY = os.getenv('OPENAI_API_KEY')\n",
    "PINECONE_API_KEY = os.getenv('PINECONE_API_KEY')\n",
    "PINECONE_ENVIRONMENT = os.getenv('PINECONE_ENVIRONMENT')\n",
    "PINECONE_INDEX_NAME = os.getenv('PINECONE_INDEX_NAME')"
   ]
  },
  {
   "cell_type": "markdown",
   "id": "71577aed-f63f-4f0c-9382-3a5f9fd0a8bc",
   "metadata": {},
   "source": [
    "# Define Output format"
   ]
  },
  {
   "cell_type": "code",
   "execution_count": 2,
   "id": "cf0bcffb-9c56-4bcb-b774-6e923c543c13",
   "metadata": {},
   "outputs": [],
   "source": [
    "class JSON_output(BaseModel):\n",
    "    score: float = Field(description=\"score\")\n",
    "    comment: str = Field(description=\"comment\")\n",
    "\n",
    "parser = PydanticOutputParser(pydantic_object=JSON_output)"
   ]
  },
  {
   "cell_type": "markdown",
   "id": "9d4a77de-2b80-4dde-9db7-169b961a3e90",
   "metadata": {},
   "source": [
    "# Init llm"
   ]
  },
  {
   "cell_type": "code",
   "execution_count": 8,
   "id": "681126e2-8009-40df-b048-fc60eec3c3af",
   "metadata": {},
   "outputs": [],
   "source": [
    "llm  = ChatOpenAI(\n",
    "    openai_api_key=OPENAI_API_KEY,\n",
    "    model_name='gpt-4-1106-preview',\n",
    "    temperature=0,\n",
    "    max_tokens=512\n",
    ")"
   ]
  },
  {
   "cell_type": "code",
   "execution_count": 81,
   "id": "12170db3-d12c-4c11-90c0-8646eb5ac15f",
   "metadata": {},
   "outputs": [],
   "source": [
    "# ReAct prompt\n",
    "template = \"\"\"You will be presented with an input answer and a ground truth in french. Your task is to score whether the input answer contains the information present in the ground truth or not.\n",
    "    \n",
    "    Approach this task step by step, take your time and do not skip any steps.\n",
    "\n",
    "    1. Read the input answer and the ground truth.\n",
    "    2. Information contained in the input answer might be explicited in a different format or phrasing. This doesn't affect the score.\n",
    "    3. Determine and score whether the input answer contains the information within the ground truth based on the following rules:\n",
    "       - If the input answer contains exactly the same information (facts, numbers, addresses, names, etc.) as the ground truth, assign a score of 1.\n",
    "       - If the input answer contains exactly the same information as the ground truth plus additional information, then assign a score of 1\n",
    "       - If the input answer only contains partial information present in the ground truth, then assign a score of 0.5\n",
    "       - If the input answer doesn't contain any of the information in the ground truth, then assign a score of 0\n",
    "    4. Output a response as JSON with keys as follows:\n",
    "        - \"score\": allowable values are [0, 0.5, 1]\n",
    "        - \"comment\": any suitable comment based on the analysis you performed, if required.\n",
    "\n",
    "    Input answer: {input_answer}\n",
    "\n",
    "    Ground truth: {ground_truth}\n",
    "\"\"\"\n",
    "\n",
    "prompt_template = PromptTemplate(input_variables=[\"input_answer\", \"ground_truth\"], template=template)"
   ]
  },
  {
   "cell_type": "markdown",
   "id": "1336568e-7555-4b2c-8214-23a9ee7528c5",
   "metadata": {},
   "source": [
    "# Preprocess eval data"
   ]
  },
  {
   "cell_type": "code",
   "execution_count": 57,
   "id": "4c77595b-1f03-4ba3-9f08-2c3b3f9274c7",
   "metadata": {},
   "outputs": [],
   "source": [
    "with open('../evaluation/questions.json') as f:\n",
    "    eval_set = json.load(f)"
   ]
  },
  {
   "cell_type": "code",
   "execution_count": 58,
   "id": "f1fe29d7-5bb3-4818-aadb-3b51c3300b79",
   "metadata": {},
   "outputs": [],
   "source": [
    "dfs = []\n",
    "for q in eval_set[\"questions\"]:\n",
    "\n",
    "    df = pd.DataFrame.from_dict(q[\"reponse\"])\n",
    "    df[\"src\"] = q[\"document\"]\n",
    "    dfs.append(df)\n",
    "    \n",
    "pd.concat(dfs).to_csv(f'../evaluation/eval_set.csv', index=None)"
   ]
  },
  {
   "cell_type": "markdown",
   "id": "6eef871b-ba9d-4bde-8ac5-d1a54afe77a1",
   "metadata": {},
   "source": [
    "# Load eval data"
   ]
  },
  {
   "cell_type": "code",
   "execution_count": 59,
   "id": "5467cd01-41a9-484b-a854-3a37ac687db2",
   "metadata": {},
   "outputs": [],
   "source": [
    "eval_set = pd.read_csv(\"../evaluation/eval_set.csv\")"
   ]
  },
  {
   "cell_type": "markdown",
   "id": "0e257922-1d18-4589-8c8e-fdb48f1b30c8",
   "metadata": {},
   "source": [
    "# Compute eval score"
   ]
  },
  {
   "cell_type": "code",
   "execution_count": 69,
   "id": "ea546754-3f2c-4931-b4bb-94e96005d13d",
   "metadata": {},
   "outputs": [],
   "source": [
    "import sys\n",
    "sys.path.append(\"../scripts\")\n",
    "\n",
    "from rag import init_pinecone, init_vectorstore, init_retriever, init_retrievalqa_chain\n",
    "from langchain.chains.conversation.memory import ConversationBufferWindowMemory"
   ]
  },
  {
   "cell_type": "code",
   "execution_count": 61,
   "id": "9ee42238-c5eb-4b00-b9eb-305668f6a5cf",
   "metadata": {},
   "outputs": [
    {
     "data": {
      "text/html": [
       "<div>\n",
       "<style scoped>\n",
       "    .dataframe tbody tr th:only-of-type {\n",
       "        vertical-align: middle;\n",
       "    }\n",
       "\n",
       "    .dataframe tbody tr th {\n",
       "        vertical-align: top;\n",
       "    }\n",
       "\n",
       "    .dataframe thead th {\n",
       "        text-align: right;\n",
       "    }\n",
       "</style>\n",
       "<table border=\"1\" class=\"dataframe\">\n",
       "  <thead>\n",
       "    <tr style=\"text-align: right;\">\n",
       "      <th></th>\n",
       "      <th>question</th>\n",
       "      <th>reponse</th>\n",
       "      <th>src</th>\n",
       "    </tr>\n",
       "  </thead>\n",
       "  <tbody>\n",
       "    <tr>\n",
       "      <th>0</th>\n",
       "      <td>Quelles sont les responsabilités du rectorat d...</td>\n",
       "      <td>Le rectorat veille à la réalisation des missio...</td>\n",
       "      <td>Statut-Version-1juillet2021.pdf</td>\n",
       "    </tr>\n",
       "    <tr>\n",
       "      <th>1</th>\n",
       "      <td>Comment sont désignés les membres de l'assembl...</td>\n",
       "      <td>La composition de l'assemblée de l'université ...</td>\n",
       "      <td>Statut-Version-1juillet2021.pdf</td>\n",
       "    </tr>\n",
       "    <tr>\n",
       "      <th>2</th>\n",
       "      <td>Quelles sont les conditions pour être considér...</td>\n",
       "      <td>Une personne est considérée comme étudiant ou ...</td>\n",
       "      <td>Statut-Version-1juillet2021.pdf</td>\n",
       "    </tr>\n",
       "    <tr>\n",
       "      <th>3</th>\n",
       "      <td>Quels sont les critères d'élimination d'un étu...</td>\n",
       "      <td>Un étudiant ou une étudiante est éliminé(e) d'...</td>\n",
       "      <td>Statut-Version-1juillet2021.pdf</td>\n",
       "    </tr>\n",
       "    <tr>\n",
       "      <th>4</th>\n",
       "      <td>Quelles sont les conditions pour l'exmatricula...</td>\n",
       "      <td>L'exmatriculation est demandée par l'étudiant ...</td>\n",
       "      <td>Statut-Version-1juillet2021.pdf</td>\n",
       "    </tr>\n",
       "  </tbody>\n",
       "</table>\n",
       "</div>"
      ],
      "text/plain": [
       "                                            question  \\\n",
       "0  Quelles sont les responsabilités du rectorat d...   \n",
       "1  Comment sont désignés les membres de l'assembl...   \n",
       "2  Quelles sont les conditions pour être considér...   \n",
       "3  Quels sont les critères d'élimination d'un étu...   \n",
       "4  Quelles sont les conditions pour l'exmatricula...   \n",
       "\n",
       "                                             reponse  \\\n",
       "0  Le rectorat veille à la réalisation des missio...   \n",
       "1  La composition de l'assemblée de l'université ...   \n",
       "2  Une personne est considérée comme étudiant ou ...   \n",
       "3  Un étudiant ou une étudiante est éliminé(e) d'...   \n",
       "4  L'exmatriculation est demandée par l'étudiant ...   \n",
       "\n",
       "                               src  \n",
       "0  Statut-Version-1juillet2021.pdf  \n",
       "1  Statut-Version-1juillet2021.pdf  \n",
       "2  Statut-Version-1juillet2021.pdf  \n",
       "3  Statut-Version-1juillet2021.pdf  \n",
       "4  Statut-Version-1juillet2021.pdf  "
      ]
     },
     "execution_count": 61,
     "metadata": {},
     "output_type": "execute_result"
    }
   ],
   "source": [
    "eval_set.head()"
   ]
  },
  {
   "cell_type": "code",
   "execution_count": 70,
   "id": "c9847e1d-d3d3-46de-8b4b-d1259a2b49f1",
   "metadata": {},
   "outputs": [],
   "source": [
    "qa = init_retrievalqa_chain()"
   ]
  },
  {
   "cell_type": "markdown",
   "id": "b47542e1-874a-4462-9c4d-72e5caf1b99e",
   "metadata": {},
   "source": [
    "### Generate RAG answers"
   ]
  },
  {
   "cell_type": "code",
   "execution_count": 76,
   "id": "9cfb9a94-87e2-4629-b515-75ea1e62463d",
   "metadata": {},
   "outputs": [
    {
     "name": "stderr",
     "output_type": "stream",
     "text": [
      "100%|███████████████████████████████████████████████████████████████████████████████████████████████████████████████| 31/31 [05:18<00:00, 10.29s/it]\n"
     ]
    }
   ],
   "source": [
    "rag_answer = []\n",
    "\n",
    "for question in tqdm.tqdm(eval_set[\"question\"]):\n",
    "\n",
    "    current_chat_history = ConversationBufferWindowMemory(\n",
    "        memory_key='chat_history',\n",
    "        input_key=\"question\",\n",
    "        k=3,\n",
    "        return_messages=True\n",
    "    )\n",
    "    \n",
    "    res = qa({\"query\": question, \n",
    "              \"chat_history\": current_chat_history})\n",
    "    \n",
    "    rag_answer.append(res[\"result\"])"
   ]
  },
  {
   "cell_type": "code",
   "execution_count": 78,
   "id": "639810cb-741e-4a96-83fb-a3eb1a59751b",
   "metadata": {},
   "outputs": [],
   "source": [
    "eval_set[\"rag_answer\"] = rag_answer"
   ]
  },
  {
   "cell_type": "code",
   "execution_count": 79,
   "id": "d7ba9b06-25df-4a3a-bd5a-f53857f990f0",
   "metadata": {},
   "outputs": [],
   "source": [
    "k_docs = 5\n",
    "\n",
    "eval_set.to_csv(f\"../evaluation/evaluated/k_docs_{k_docs}.csv\", index=None)"
   ]
  },
  {
   "cell_type": "markdown",
   "id": "32c39b8c-39b6-4af0-b518-d37a140cbd96",
   "metadata": {},
   "source": [
    "### Score answers"
   ]
  },
  {
   "cell_type": "code",
   "execution_count": 80,
   "id": "4ed99565-95b5-4645-a0b9-cec28fa996a4",
   "metadata": {},
   "outputs": [
    {
     "data": {
      "text/html": [
       "<div>\n",
       "<style scoped>\n",
       "    .dataframe tbody tr th:only-of-type {\n",
       "        vertical-align: middle;\n",
       "    }\n",
       "\n",
       "    .dataframe tbody tr th {\n",
       "        vertical-align: top;\n",
       "    }\n",
       "\n",
       "    .dataframe thead th {\n",
       "        text-align: right;\n",
       "    }\n",
       "</style>\n",
       "<table border=\"1\" class=\"dataframe\">\n",
       "  <thead>\n",
       "    <tr style=\"text-align: right;\">\n",
       "      <th></th>\n",
       "      <th>question</th>\n",
       "      <th>reponse</th>\n",
       "      <th>src</th>\n",
       "      <th>rag_answer</th>\n",
       "    </tr>\n",
       "  </thead>\n",
       "  <tbody>\n",
       "    <tr>\n",
       "      <th>0</th>\n",
       "      <td>Quelles sont les responsabilités du rectorat d...</td>\n",
       "      <td>Le rectorat veille à la réalisation des missio...</td>\n",
       "      <td>Statut-Version-1juillet2021.pdf</td>\n",
       "      <td>Le rectorat de l'Université de Genève est resp...</td>\n",
       "    </tr>\n",
       "    <tr>\n",
       "      <th>1</th>\n",
       "      <td>Comment sont désignés les membres de l'assembl...</td>\n",
       "      <td>La composition de l'assemblée de l'université ...</td>\n",
       "      <td>Statut-Version-1juillet2021.pdf</td>\n",
       "      <td>Les membres de l'assemblée de l'université son...</td>\n",
       "    </tr>\n",
       "    <tr>\n",
       "      <th>2</th>\n",
       "      <td>Quelles sont les conditions pour être considér...</td>\n",
       "      <td>Une personne est considérée comme étudiant ou ...</td>\n",
       "      <td>Statut-Version-1juillet2021.pdf</td>\n",
       "      <td>Pour être considéré comme étudiant ou étudiant...</td>\n",
       "    </tr>\n",
       "    <tr>\n",
       "      <th>3</th>\n",
       "      <td>Quels sont les critères d'élimination d'un étu...</td>\n",
       "      <td>Un étudiant ou une étudiante est éliminé(e) d'...</td>\n",
       "      <td>Statut-Version-1juillet2021.pdf</td>\n",
       "      <td>Les critères d'élimination d'un étudiant ou d'...</td>\n",
       "    </tr>\n",
       "    <tr>\n",
       "      <th>4</th>\n",
       "      <td>Quelles sont les conditions pour l'exmatricula...</td>\n",
       "      <td>L'exmatriculation est demandée par l'étudiant ...</td>\n",
       "      <td>Statut-Version-1juillet2021.pdf</td>\n",
       "      <td>Les conditions pour l'exmatriculation d'un étu...</td>\n",
       "    </tr>\n",
       "  </tbody>\n",
       "</table>\n",
       "</div>"
      ],
      "text/plain": [
       "                                            question  \\\n",
       "0  Quelles sont les responsabilités du rectorat d...   \n",
       "1  Comment sont désignés les membres de l'assembl...   \n",
       "2  Quelles sont les conditions pour être considér...   \n",
       "3  Quels sont les critères d'élimination d'un étu...   \n",
       "4  Quelles sont les conditions pour l'exmatricula...   \n",
       "\n",
       "                                             reponse  \\\n",
       "0  Le rectorat veille à la réalisation des missio...   \n",
       "1  La composition de l'assemblée de l'université ...   \n",
       "2  Une personne est considérée comme étudiant ou ...   \n",
       "3  Un étudiant ou une étudiante est éliminé(e) d'...   \n",
       "4  L'exmatriculation est demandée par l'étudiant ...   \n",
       "\n",
       "                               src  \\\n",
       "0  Statut-Version-1juillet2021.pdf   \n",
       "1  Statut-Version-1juillet2021.pdf   \n",
       "2  Statut-Version-1juillet2021.pdf   \n",
       "3  Statut-Version-1juillet2021.pdf   \n",
       "4  Statut-Version-1juillet2021.pdf   \n",
       "\n",
       "                                          rag_answer  \n",
       "0  Le rectorat de l'Université de Genève est resp...  \n",
       "1  Les membres de l'assemblée de l'université son...  \n",
       "2  Pour être considéré comme étudiant ou étudiant...  \n",
       "3  Les critères d'élimination d'un étudiant ou d'...  \n",
       "4  Les conditions pour l'exmatriculation d'un étu...  "
      ]
     },
     "execution_count": 80,
     "metadata": {},
     "output_type": "execute_result"
    }
   ],
   "source": [
    "eval_set = pd.read_csv(\"../evaluation/evaluated/k_docs_5.csv\")\n",
    "eval_set.head()"
   ]
  },
  {
   "cell_type": "code",
   "execution_count": 83,
   "id": "dd7bf538-37cc-459a-a116-5283ffb35d4c",
   "metadata": {},
   "outputs": [
    {
     "name": "stderr",
     "output_type": "stream",
     "text": [
      "31it [01:35,  3.06s/it]\n"
     ]
    }
   ],
   "source": [
    "scores = {}\n",
    "eval = []\n",
    "for rag_answer, ground_truth in tqdm.tqdm(zip(eval_set[\"rag_answer\"], eval_set[\"reponse\"])):\n",
    "\n",
    "    prompt = prompt_template.format(input_answer=rag_answer, ground_truth=ground_truth)\n",
    "    res = llm([SystemMessage(content=prompt)])\n",
    "\n",
    "    eval.append(parser.parse(res.content))\n",
    "\n",
    "scores[\"k_docs_5\"] = eval"
   ]
  },
  {
   "cell_type": "code",
   "execution_count": 87,
   "id": "5095169f-0cd8-4be0-bdb4-054861983867",
   "metadata": {},
   "outputs": [
    {
     "data": {
      "text/plain": [
       "\"Le rectorat de l'Université de Genève est responsable de surveiller et de coordonner l'application du règlement de l'université, en veillant à une interprétation et une application cohérentes dans chaque UPER/UER. Il peut déléguer certaines compétences à une commission ad hoc. Le rectorat est également l'autorité d'engagement pour les membres du corps des collaborateurs/trices de l'enseignement et de la recherche, bien que cette compétence soit déléguée au Décanat de l'UPER et à la direction de l'UER concernées pour certaines fonctions. En outre, le rectorat prend les décisions relatives au personnel conformément aux lois cantonales et sollicite l'avis du Décanat de l'UPER concernée avant de prendre des décisions. Il est aussi impliqué dans les procédures de plainte en cas de violation de la règle de préférence dans les nominations.\""
      ]
     },
     "execution_count": 87,
     "metadata": {},
     "output_type": "execute_result"
    }
   ],
   "source": [
    "eval_set[\"rag_answer\"][0]"
   ]
  },
  {
   "cell_type": "code",
   "execution_count": 88,
   "id": "ca834911-a46d-46e8-816b-20de4bb3f561",
   "metadata": {},
   "outputs": [
    {
     "data": {
      "text/plain": [
       "\"Le rectorat veille à la réalisation des missions et objectifs de l'université, au respect des valeurs académiques et éthiques, et à la réputation de l'université. La composition et le mode de désignation du rectorat sont régis par les articles 27 à 29 de la Loi sur l'université. Le recteur ou la rectrice est désigné(e) par l'assemblée de l'université après consultation du conseil d'orientation stratégique et nommé(e) par le Conseil d'État.\""
      ]
     },
     "execution_count": 88,
     "metadata": {},
     "output_type": "execute_result"
    }
   ],
   "source": [
    "eval_set[\"reponse\"][0]"
   ]
  },
  {
   "cell_type": "code",
   "execution_count": 86,
   "id": "a573d633-80ba-4327-ba6c-301519a80fca",
   "metadata": {},
   "outputs": [
    {
     "data": {
      "text/plain": [
       "[0.0,\n",
       " 0.0,\n",
       " 0.5,\n",
       " 1.0,\n",
       " 0.0,\n",
       " 1.0,\n",
       " 1.0,\n",
       " 1.0,\n",
       " 1.0,\n",
       " 1.0,\n",
       " 1.0,\n",
       " 1.0,\n",
       " 1.0,\n",
       " 1.0,\n",
       " 1.0,\n",
       " 1.0,\n",
       " 0.5,\n",
       " 1.0,\n",
       " 1.0,\n",
       " 0.5,\n",
       " 0.0,\n",
       " 1.0,\n",
       " 1.0,\n",
       " 0.5,\n",
       " 1.0,\n",
       " 1.0,\n",
       " 1.0,\n",
       " 1.0,\n",
       " 1.0,\n",
       " 1.0,\n",
       " 1.0]"
      ]
     },
     "execution_count": 86,
     "metadata": {},
     "output_type": "execute_result"
    }
   ],
   "source": [
    "[x.score for x in scores[\"k_docs_5\"]]"
   ]
  },
  {
   "cell_type": "code",
   "execution_count": 92,
   "id": "24c1a070-b0fe-4091-8109-35f189ecccd3",
   "metadata": {},
   "outputs": [
    {
     "name": "stdout",
     "output_type": "stream",
     "text": [
      "Les conditions pour l'élimination d'un étudiant du titre qu'il brigue à l'Université de Genève sont les suivantes :\n",
      "\n",
      "1. L'étudiant est éliminé s'il a répété sans succès l'année propédeutique.\n",
      "2. L'étudiant est éliminé s'il ne peut plus répéter l’évaluation d’un enseignement des études de base, d’un certificat complémentaire, d’un certificat de spécialisation, d’un complément de bachelor ou du master of advanced studies (MAS) ou d’un certificat ou diplôme de formation continue non réussie selon l'article 14.\n",
      "3. L'étudiant est éliminé s'il n’a pas obtenu au moins 20 crédits ECTS (équivalences exclues) durant les 2 premiers semestres de ses études de bachelor ou de master.\n",
      "4. L'étudiant est éliminé s'il ne peut plus répéter l’évaluation d’un enseignement à option dans le cadre des limites fixées par l'article 9, alinéa 3.\n",
      "5. L'étudiant est éliminé s'il n'a pas obtenu le titre brigué dans les délais d'études suivants, qui varient en fonction du nombre de crédits ECTS du titre :\n",
      "   - 2 semestres pour les titres en 30 crédits ECTS\n",
      "   - 4 semestres pour les titres en 60 crédits ECTS\n",
      "   - 6 semestres pour les titres en 90 crédits ECTS\n",
      "   - 8 semestres pour les titres en 120 crédits ECTS\n",
      "   - 10 semestres pour les titres en 180 crédits ECTS.\n",
      "6. En cas d’obtention d’équivalences, les délais pour l’obtention du titre sont ajustés en fonction des crédits effectifs à acquérir, et l'élimination intervient lors du dépassement des délais cités.\n",
      "7. Pour les études à temps partiel, les délais sont ceux communiqués par écrit par le doyen ou le vice-doyen en charge des étudiants.\n",
      "8. Les cas de fraude, plagiat, tentative de fraude ou de plagiat sont également réservés.\n",
      "9. Les éliminations sont prononcées par le doyen.\n",
      "10. Les dispositions particulières des règlements relatifs aux certificats complémentaires, aux certificats de spécialisation, aux masters of advanced studies (MAS) et aux titres de formation continue sont réservées.\n"
     ]
    }
   ],
   "source": [
    "print(eval_set[\"rag_answer\"].iloc[-1])"
   ]
  },
  {
   "cell_type": "code",
   "execution_count": 91,
   "id": "1ddaf6f3-f1a7-4b5a-8dbc-6d4efec853b9",
   "metadata": {},
   "outputs": [
    {
     "data": {
      "text/plain": [
       "\"Un étudiant est éliminé du titre brigué s'il répète sans succès l'année propédeutique, ne peut répéter l’évaluation d’un enseignement non réussi, n'obtient pas au moins 20 crédits ECTS durant les 2 premiers semestres, ne peut répéter l’évaluation d’un enseignement à option, ou n'obtient pas le titre brigué dans les délais d'études fixés.\""
      ]
     },
     "execution_count": 91,
     "metadata": {},
     "output_type": "execute_result"
    }
   ],
   "source": [
    "eval_set[\"reponse\"].iloc[-1]"
   ]
  },
  {
   "cell_type": "code",
   "execution_count": null,
   "id": "84af4fae-b479-435e-b9ac-9d80af742577",
   "metadata": {},
   "outputs": [],
   "source": []
  }
 ],
 "metadata": {
  "kernelspec": {
   "display_name": "venv_unigpt",
   "language": "python",
   "name": "venv_unigpt"
  },
  "language_info": {
   "codemirror_mode": {
    "name": "ipython",
    "version": 3
   },
   "file_extension": ".py",
   "mimetype": "text/x-python",
   "name": "python",
   "nbconvert_exporter": "python",
   "pygments_lexer": "ipython3",
   "version": "3.11.5"
  }
 },
 "nbformat": 4,
 "nbformat_minor": 5
}
